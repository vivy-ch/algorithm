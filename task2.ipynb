{
 "cells": [
  {
   "cell_type": "code",
   "execution_count": 2,
   "id": "0020f63f-1717-4bbc-b036-c9247ef525a7",
   "metadata": {},
   "outputs": [
    {
     "name": "stdout",
     "output_type": "stream",
     "text": [
      "[2, 4, 6, 8, 10, 12, 14, 16, 18, 20, 22, 24, 26, 28, 30, 32, 34, 36, 38, 40, 42, 44, 46, 48, 50, 52, 54, 56, 58, 60, 62, 64, 66, 68, 70, 72, 74, 76, 78, 80, 82, 84, 86, 88, 90, 92, 94, 96, 98]\n"
     ]
    }
   ],
   "source": [
    "# 找出100以内偶数\n",
    "list = []\n",
    "for i in range(1, 100):\n",
    "    if i % 2 == 0:\n",
    "        list.append(i)\n",
    "print(list)"
   ]
  },
  {
   "cell_type": "code",
   "execution_count": 3,
   "id": "f3a08a3a-5ea2-4639-a11f-ff7f58164601",
   "metadata": {},
   "outputs": [
    {
     "name": "stdout",
     "output_type": "stream",
     "text": [
      "[1, 3, 5, 7, 9, 11, 13, 15, 17, 19, 21, 23, 25, 27, 29, 31, 33, 35, 37, 39, 41, 43, 45, 47, 49, 51, 53, 55, 57, 59, 61, 63, 65, 67, 69, 71, 73, 75, 77, 79, 81, 83, 85, 87, 89, 91, 93, 95, 97, 99]\n"
     ]
    }
   ],
   "source": [
    "# 找出100以内奇数\n",
    "list = []\n",
    "for i in range(1, 100):\n",
    "    if i % 2 != 0:\n",
    "        list.append(i)\n",
    "print(list)"
   ]
  },
  {
   "cell_type": "code",
   "execution_count": 6,
   "id": "15b056cb-59bf-4262-8256-dd5f9c5618e9",
   "metadata": {},
   "outputs": [
    {
     "name": "stdout",
     "output_type": "stream",
     "text": [
      "素数\n"
     ]
    }
   ],
   "source": [
    "# 判断一个数是否为素数\n",
    "a = 17\n",
    "flag = False\n",
    "\n",
    "for i in range(2, a):\n",
    "    if a % i == 0:\n",
    "        flag = True\n",
    "        break\n",
    "\n",
    "if flag:\n",
    "    print(\"合数\")\n",
    "else:\n",
    "    print(\"素数\")"
   ]
  },
  {
   "cell_type": "code",
   "execution_count": 22,
   "id": "280b74fd-9ab0-45f7-9b13-8695475d5e4e",
   "metadata": {},
   "outputs": [
    {
     "name": "stdout",
     "output_type": "stream",
     "text": [
      "120\n",
      "120\n"
     ]
    }
   ],
   "source": [
    "# 求出某个自然数的阶乘（一个正整数的阶乘等于所有小于等于该数的正整数的积，且0的阶乘为1，n的阶乘写作n!）\n",
    "# 方法1：非递归\n",
    "n = 5\n",
    "sum = 1\n",
    "for i in range(1, n+1):\n",
    "    sum *= i\n",
    "print(sum)\n",
    "\n",
    "# 方法2：递归\n",
    "def jc(num):\n",
    "    if num == 1:\n",
    "        return 1\n",
    "    else:\n",
    "        return num * jc(num - 1)\n",
    "print(jc(n))\n",
    "# 递归算法：f(x)=xf(x-1),x>=2"
   ]
  },
  {
   "cell_type": "code",
   "execution_count": 26,
   "id": "4ad9126d-2d2f-4f93-a30c-d47b58ab9092",
   "metadata": {},
   "outputs": [
    {
     "name": "stdin",
     "output_type": "stream",
     "text": [
      "请输入半径： 3\n"
     ]
    },
    {
     "name": "stdout",
     "output_type": "stream",
     "text": [
      "圆的周长：18.84955592153876\n",
      "圆的面积：28.274333882308138\n"
     ]
    }
   ],
   "source": [
    "# 求圆的周长\n",
    "import math\n",
    "\n",
    "r = float(input(\"请输入半径：\"))\n",
    "c = 2 * math.pi * r\n",
    "print(f\"圆的周长：{c}\")\n",
    "\n",
    "# 求圆的面积\n",
    "s = math.pi * r * r\n",
    "print(f\"圆的面积：{s}\")"
   ]
  },
  {
   "cell_type": "code",
   "execution_count": 28,
   "id": "91cd1816-af19-49c3-8b70-07d26732bdb5",
   "metadata": {},
   "outputs": [
    {
     "name": "stdin",
     "output_type": "stream",
     "text": [
      "第一边长： 3\n",
      "第二边长： 4\n"
     ]
    },
    {
     "name": "stdout",
     "output_type": "stream",
     "text": [
      "5.0\n"
     ]
    }
   ],
   "source": [
    "# 求直角三角形斜边长\n",
    "import math\n",
    "\n",
    "a = int(input(\"第一边长：\"))\n",
    "b = int(input(\"第二边长：\"))\n",
    "c = math.sqrt(a * a + b * b)\n",
    "print(c)"
   ]
  },
  {
   "cell_type": "code",
   "execution_count": 31,
   "id": "0f93a223-563e-4f82-b77f-f489073677df",
   "metadata": {},
   "outputs": [
    {
     "name": "stdin",
     "output_type": "stream",
     "text": [
      "第一个数： 3\n",
      "第二个数： 1\n",
      "第三个数： 2\n"
     ]
    },
    {
     "name": "stdout",
     "output_type": "stream",
     "text": [
      "1,2,3\n"
     ]
    }
   ],
   "source": [
    "# 比较三个数大小（输入三个数，从小到大输出三个数）\n",
    "a = int(input(\"第一个数：\"))\n",
    "b = int(input(\"第二个数：\"))\n",
    "c = int(input(\"第三个数：\"))\n",
    "\n",
    "list = [a,b,c]\n",
    "list1 = sorted(list)\n",
    "print(f\"{list1[0]},{list1[1]},{list1[2]}\")"
   ]
  },
  {
   "cell_type": "code",
   "execution_count": 33,
   "id": "05133fc7-aac8-48c7-bbad-ff25f09b9478",
   "metadata": {},
   "outputs": [
    {
     "name": "stdin",
     "output_type": "stream",
     "text": [
      "左端点： 2\n",
      "右端点： 100\n"
     ]
    },
    {
     "name": "stdout",
     "output_type": "stream",
     "text": [
      "[2, 3, 5, 7, 11, 13, 17, 19, 23, 29, 31, 37, 41, 43, 47, 53, 59, 61, 67, 71, 73, 79, 83, 89, 97]\n"
     ]
    }
   ],
   "source": [
    "# 找出区间内的素数\n",
    "def prime(n):\n",
    "    flag = True\n",
    "    for i in range(2,n):\n",
    "        if n % i == 0:\n",
    "            flag = False\n",
    "            break\n",
    "    return flag\n",
    "\n",
    "a = int(input(\"左端点：\"))\n",
    "b = int(input(\"右端点：\"))\n",
    "\n",
    "list = []\n",
    "\n",
    "for i in range(a,b+1):\n",
    "    if prime(i):\n",
    "        list.append(i)\n",
    "\n",
    "print(list)"
   ]
  },
  {
   "cell_type": "code",
   "execution_count": 34,
   "id": "ba33e433-590d-4f35-a74a-121ea5e21dcd",
   "metadata": {},
   "outputs": [
    {
     "name": "stdout",
     "output_type": "stream",
     "text": [
      "123\n",
      "124\n",
      "132\n",
      "134\n",
      "142\n",
      "143\n",
      "213\n",
      "214\n",
      "231\n",
      "234\n",
      "241\n",
      "243\n",
      "312\n",
      "314\n",
      "321\n",
      "324\n",
      "341\n",
      "342\n",
      "412\n",
      "413\n",
      "421\n",
      "423\n",
      "431\n",
      "432\n"
     ]
    }
   ],
   "source": [
    "# 1、2、3、4组成无重复数字的三位数\n",
    "for i in range(1,5):\n",
    "    for j in range(1,5):\n",
    "        for m in range(1,5):\n",
    "            if (i != j) and (i != m) and (j != m):\n",
    "                print(f\"{i}{j}{m}\")"
   ]
  },
  {
   "cell_type": "code",
   "execution_count": 37,
   "id": "b1f69d2c-0387-4893-84e3-e6a2e7eeadfa",
   "metadata": {},
   "outputs": [
    {
     "name": "stdout",
     "output_type": "stream",
     "text": [
      "\n",
      "\t1×1=1 \n",
      "\t2×1=2 \t2×2=4 \n",
      "\t3×1=3 \t3×2=6 \t3×3=9 \n",
      "\t4×1=4 \t4×2=8 \t4×3=12 \t4×4=16 \n",
      "\t5×1=5 \t5×2=10 \t5×3=15 \t5×4=20 \t5×5=25 \n",
      "\t6×1=6 \t6×2=12 \t6×3=18 \t6×4=24 \t6×5=30 \t6×6=36 \n",
      "\t7×1=7 \t7×2=14 \t7×3=21 \t7×4=28 \t7×5=35 \t7×6=42 \t7×7=49 \n",
      "\t8×1=8 \t8×2=16 \t8×3=24 \t8×4=32 \t8×5=40 \t8×6=48 \t8×7=56 \t8×8=64 \n",
      "\t9×1=9 \t9×2=18 \t9×3=27 \t9×4=36 \t9×5=45 \t9×6=54 \t9×7=63 \t9×8=72 \t9×9=81 "
     ]
    }
   ],
   "source": [
    "# 打印乘法口诀表\n",
    "for i in range(1,10):\n",
    "    print()\n",
    "    for j in range(1,i+1):\n",
    "        print(f\"\\t{i}×{j}={i*j}\", end=' ')"
   ]
  },
  {
   "cell_type": "code",
   "execution_count": 40,
   "id": "69f3787d-1fbb-41be-81c4-04e62e2be9fe",
   "metadata": {},
   "outputs": [
    {
     "name": "stdout",
     "output_type": "stream",
     "text": [
      "153为水仙花数\n",
      "370为水仙花数\n",
      "371为水仙花数\n",
      "407为水仙花数\n"
     ]
    }
   ],
   "source": [
    "# 找出所有水仙花数\n",
    "'''\n",
    "# 首先要明白如何拿到三位数的每一位数字，第一种方法可以将数字转换为字符串类型，再用索引获取；另外可以直接采用数学方法\n",
    "n = 567\n",
    "a = n % 10 # 个位\n",
    "b = (n % 100) // 10 # 十位\n",
    "c = n // 100 # 百位\n",
    "print(a,b,c) # 输出7 6 5\n",
    "'''\n",
    "for i in range(100,1000):\n",
    "    a = i % 10\n",
    "    b = (i % 100) // 10\n",
    "    c = i // 100\n",
    "    if a*a*a + b*b*b + c*c*c == i:\n",
    "        print(f\"{i}为水仙花数\")"
   ]
  },
  {
   "cell_type": "code",
   "execution_count": 43,
   "id": "7a1ce60f-4926-4d65-91e4-420f225fcf43",
   "metadata": {},
   "outputs": [
    {
     "name": "stdin",
     "output_type": "stream",
     "text": [
      "输入数字: 1000\n"
     ]
    },
    {
     "name": "stdout",
     "output_type": "stream",
     "text": [
      "1\n"
     ]
    }
   ],
   "source": [
    "# 反向输出四位数\n",
    "a = int(input(\"输入数字:\"))\n",
    "a = str(a)\n",
    "a = a[::-1]\n",
    "a = int(a)\n",
    "print(a)"
   ]
  },
  {
   "cell_type": "code",
   "execution_count": 46,
   "id": "52f9446b-a7ea-4829-8d6a-befaa0baed88",
   "metadata": {},
   "outputs": [
    {
     "name": "stdin",
     "output_type": "stream",
     "text": [
      "输入字符: vincent\n"
     ]
    },
    {
     "name": "stdout",
     "output_type": "stream",
     "text": [
      "yes\n"
     ]
    }
   ],
   "source": [
    "# 判断字符是否为字母\n",
    "a = input(\"输入字符:\")\n",
    "result = a.isalpha()\n",
    "if result:\n",
    "    print(\"yes\")\n",
    "else:\n",
    "    print(\"no\")"
   ]
  },
  {
   "cell_type": "code",
   "execution_count": 51,
   "id": "c9b5a523-4715-4ff5-91d8-b44833bf17cc",
   "metadata": {},
   "outputs": [
    {
     "name": "stdin",
     "output_type": "stream",
     "text": [
      "第一条边 3\n",
      "第二条边 4\n",
      "第三条边 5\n"
     ]
    },
    {
     "name": "stdout",
     "output_type": "stream",
     "text": [
      "yes\n"
     ]
    }
   ],
   "source": [
    "# 判断三组数据是否能构成三角形\n",
    "a = int(input(\"第一条边\"))\n",
    "b = int(input(\"第二条边\"))\n",
    "c = int(input(\"第三条边\"))\n",
    "\n",
    "if a <= 0 or b <= 0 or c <= 0:\n",
    "    print(\"数据不合法\")\n",
    "else:\n",
    "    if a+b > c and a+c > b and b+c > a:\n",
    "        print(\"yes\")\n",
    "    else:\n",
    "        print(\"no\")"
   ]
  },
  {
   "cell_type": "code",
   "execution_count": 53,
   "id": "a1e95c34-cd24-49f8-9a1c-25fdae36f3db",
   "metadata": {},
   "outputs": [
    {
     "name": "stdout",
     "output_type": "stream",
     "text": [
      "6是完数\n",
      "28是完数\n",
      "496是完数\n"
     ]
    }
   ],
   "source": [
    "# 找出1000以内的所有完数\n",
    "for i in range(1,1000):\n",
    "    sum = 0\n",
    "    for j in range(1,i):\n",
    "        if i % j == 0:\n",
    "            sum += j\n",
    "    if sum == i:\n",
    "        print(f\"{i}是完数\")"
   ]
  },
  {
   "cell_type": "code",
   "execution_count": 59,
   "id": "f2ab5617-936a-4cb4-828e-48d08fc68849",
   "metadata": {},
   "outputs": [
    {
     "name": "stdin",
     "output_type": "stream",
     "text": [
      "输入一个数: 180\n"
     ]
    },
    {
     "name": "stdout",
     "output_type": "stream",
     "text": [
      "2 2 3 3 5 "
     ]
    }
   ],
   "source": [
    "# 找出一个正整数的质数因子\n",
    "a = int(input(\"输入一个数:\"))\n",
    "y = 2\n",
    "list = []\n",
    "while a != y:\n",
    "    if a % y == 0:\n",
    "        list.append(y)\n",
    "        a /= y\n",
    "    else:\n",
    "        y += 1\n",
    "list.append(int(a))\n",
    "for i in list:\n",
    "    print(i, end=' ')"
   ]
  },
  {
   "cell_type": "code",
   "execution_count": 70,
   "id": "40ec6b55-5eac-498b-b0aa-658c1889579d",
   "metadata": {},
   "outputs": [
    {
     "name": "stdin",
     "output_type": "stream",
     "text": [
      "第一条边 4\n",
      "第二条边 5\n",
      "第三条边 6\n"
     ]
    },
    {
     "name": "stdout",
     "output_type": "stream",
     "text": [
      "9.92\n"
     ]
    }
   ],
   "source": [
    "# 用海伦公式求三角形面积\n",
    "import math\n",
    "\n",
    "a = int(input(\"第一条边\"))\n",
    "b = int(input(\"第二条边\"))\n",
    "c = int(input(\"第三条边\"))\n",
    "\n",
    "if a<=0 or b<=0 or c<=0 or a+b<=c or a+c<=b or b+c<=a:\n",
    "    print(\"数据不合法\")\n",
    "else:\n",
    "    p = (a+b+c)/2\n",
    "    s = math.sqrt(p*(p-a)*(p-b)*(p-c))\n",
    "    print('%.2f' % s) # %.2f保留两位小数"
   ]
  },
  {
   "cell_type": "code",
   "execution_count": 73,
   "id": "6fd3d305-7ee1-4ad5-aee2-b8ceb9acf769",
   "metadata": {},
   "outputs": [
    {
     "name": "stdin",
     "output_type": "stream",
     "text": [
      " 2025 1 1\n"
     ]
    },
    {
     "name": "stdout",
     "output_type": "stream",
     "text": [
      "1\n"
     ]
    }
   ],
   "source": [
    "# 输入某年某月某日,判断这一天是这一年的第几天\n",
    "import datetime\n",
    "\n",
    "year,month,day = map(int,input().split(\" \")) # 得到三个整数型变量,注意这里输入的格式一定是年 月 日\n",
    "first_day = datetime.datetime(year,1,1)\n",
    "input_day = datetime.datetime(year,month,day)\n",
    "print((input_day-first_day).days + 1)"
   ]
  },
  {
   "cell_type": "code",
   "execution_count": 79,
   "id": "b85806d5-6559-4a3e-b12b-90ec8d1a9662",
   "metadata": {},
   "outputs": [
    {
     "name": "stdin",
     "output_type": "stream",
     "text": [
      " 6\n"
     ]
    },
    {
     "name": "stdout",
     "output_type": "stream",
     "text": [
      "8\n"
     ]
    }
   ],
   "source": [
    "# 找出斐波那契数列的第n项\n",
    "n = int(input())\n",
    "\n",
    "# # 递归\n",
    "# def fib(n):\n",
    "#     if n == 1 or n == 2:\n",
    "#         return 1\n",
    "#     else:\n",
    "#         return fib(n-1) + fib(n-2)\n",
    "# print(fib(n))\n",
    "\n",
    "# 非递归\n",
    "fibs = [1,1]\n",
    "for i in range(2,n+1):\n",
    "    fibs.append(fibs[i-1] + fibs[i-2])\n",
    "print(fibs[n-1])"
   ]
  },
  {
   "cell_type": "code",
   "execution_count": 38,
   "id": "f680752a-23a8-4d5d-8ab7-9373522fb672",
   "metadata": {},
   "outputs": [
    {
     "name": "stdout",
     "output_type": "stream",
     "text": [
      "[1, 2, 3, 4]\n"
     ]
    }
   ],
   "source": [
    "# 将一个列表的数据复制到另一个列表(拷贝)\n",
    "# # 直接引用\n",
    "# list = [1,2,3,4]\n",
    "# list1 = list\n",
    "# list[0] = 30\n",
    "# print(list1)\n",
    "# # 输出[30, 2, 3, 4]\n",
    "\n",
    "# 浅拷贝\n",
    "import copy\n",
    "\n",
    "list = [1,2,3,4]\n",
    "list1 = copy.copy(list)\n",
    "list[0] = 30\n",
    "print(list1)"
   ]
  },
  {
   "cell_type": "code",
   "execution_count": 82,
   "id": "33663949-0fe4-4d6e-b9d9-0cd86e05cbb6",
   "metadata": {},
   "outputs": [
    {
     "name": "stdout",
     "output_type": "stream",
     "text": [
      "vincent\n"
     ]
    }
   ],
   "source": [
    "# 暂停一段时间后输出\n",
    "import time\n",
    "\n",
    "time.sleep(3)\n",
    "print(\"vincent\")"
   ]
  },
  {
   "cell_type": "code",
   "execution_count": 86,
   "id": "ee719042-b921-45fd-9e50-78992b5becc2",
   "metadata": {},
   "outputs": [
    {
     "name": "stdin",
     "output_type": "stream",
     "text": [
      "输入成绩: 99\n"
     ]
    },
    {
     "name": "stdout",
     "output_type": "stream",
     "text": [
      "A\n"
     ]
    }
   ],
   "source": [
    "# 用if语句完成：成绩>=90用A表示，60-89用B表示，60以下用C表示\n",
    "score = int(input(\"输入成绩:\"))\n",
    "\n",
    "if 0 <= score <= 100:\n",
    "    if score >= 90:\n",
    "        print('A')\n",
    "    elif 60 <= score <= 89:\n",
    "        print('B')\n",
    "    else:\n",
    "        print('C')\n",
    "else:\n",
    "    print('成绩异常')"
   ]
  },
  {
   "cell_type": "code",
   "execution_count": 89,
   "id": "108ac023-e3d1-47f3-bcbe-7bc8f7f5d164",
   "metadata": {},
   "outputs": [
    {
     "name": "stdin",
     "output_type": "stream",
     "text": [
      "输入字符： kds./,fv 24gd54654/.,ad  \n"
     ]
    },
    {
     "name": "stdout",
     "output_type": "stream",
     "text": [
      "英文字母：9，数字：7，空格：3，其他字符：6\n"
     ]
    }
   ],
   "source": [
    "# 统计一行字符的英文字母、空格、数字和其他字符的个数\n",
    "string = input('输入字符：')\n",
    "\n",
    "char = 0\n",
    "number = 0\n",
    "space = 0\n",
    "other = 0\n",
    "\n",
    "for i in string:\n",
    "    if i.isalpha():\n",
    "        char += 1\n",
    "    elif i.isdigit():\n",
    "        number += 1\n",
    "    elif i.isspace():\n",
    "        space += 1\n",
    "    else:\n",
    "        other += 1\n",
    "print(f\"英文字母：{char}，数字：{number}，空格：{space}，其他字符：{other}\")"
   ]
  },
  {
   "cell_type": "code",
   "execution_count": 95,
   "id": "9b4a3f11-4b72-4fbb-b290-a5b62903235d",
   "metadata": {},
   "outputs": [
    {
     "name": "stdout",
     "output_type": "stream",
     "text": [
      "[100, 100.0, 50.0, 25.0, 12.5, 6.25, 3.125, 1.5625, 0.78125, 0.390625]\n",
      "299.609375\n",
      "0.1953125\n"
     ]
    }
   ],
   "source": [
    "# 球从100m高度落下，每次落地后反弹高度为原高度一半，求第10次落地时，共经过了多少米？第10次反弹高度？\n",
    "n = 100\n",
    "count = 0\n",
    "list = []\n",
    "\n",
    "while count < 10:\n",
    "    if count == 0:\n",
    "        list.append(n)\n",
    "        n /= 2\n",
    "        count += 1\n",
    "    else:\n",
    "        list.append(2*n)\n",
    "        n /= 2\n",
    "        count += 1\n",
    "print(list)\n",
    "print(sum(list))\n",
    "print(list[9]/2)"
   ]
  },
  {
   "cell_type": "code",
   "execution_count": 104,
   "id": "55469bb5-7d45-4fa5-9056-fec1a90910a8",
   "metadata": {},
   "outputs": [
    {
     "name": "stdout",
     "output_type": "stream",
     "text": [
      "1534\n"
     ]
    }
   ],
   "source": [
    "# 猴子吃桃问题：第一天摘n个桃，第一天吃了一半+1个，第二天吃了剩下的一半+1个，到第10天吃之前只剩下1个桃了，求n\n",
    "# # 递归\n",
    "# m = int(input(\"最后一天剩下的：\"))\n",
    "\n",
    "# def tao(n):\n",
    "#     if n <= 0:\n",
    "#         return('数据异常')\n",
    "#     elif n == 1:\n",
    "#         return m\n",
    "#     else:\n",
    "#         return 2 * tao(n-1) + 2\n",
    "# n = int(input(\"输入天数：\"))\n",
    "# print(tao(n))\n",
    "\n",
    "\n",
    "# # 推广算法，相当于原算法逆推\n",
    "# m = int(input(\"输入第一天摘下数量：\"))\n",
    "\n",
    "# def tao(n):\n",
    "#     if n <= 0:\n",
    "#         return('数据异常')\n",
    "#     elif n == 1:\n",
    "#         return m / 2 - 1\n",
    "#     else:\n",
    "#         return tao(n-1) / 2 - 1\n",
    "# n = int(input(\"第几天：\"))\n",
    "# print(tao(n))\n",
    "\n",
    "# 除了上述的递归方法外，还有其他方法直接计算\n",
    "n = 1\n",
    "for i in range(1,10):\n",
    "    total = (n+1) * 2\n",
    "    n = total\n",
    "print(total)"
   ]
  },
  {
   "cell_type": "code",
   "execution_count": 107,
   "id": "5913d786-0495-497e-9b6c-c7269e73b6ac",
   "metadata": {},
   "outputs": [
    {
     "name": "stdout",
     "output_type": "stream",
     "text": [
      "32.66026079864164\n"
     ]
    }
   ],
   "source": [
    "# 求指定数列的和\n",
    "# 有一分数数列：2/1，3/2，5/3，8/5，13/8...求这个数列的前20项之和\n",
    "sum1 = 0\n",
    "up = 2\n",
    "down = 1\n",
    "\n",
    "for i in range(20):\n",
    "    sum1 += up/down\n",
    "    a = down # 这一步很重要\n",
    "    down = up\n",
    "    up = up + a\n",
    "print(sum1)"
   ]
  },
  {
   "cell_type": "code",
   "execution_count": 18,
   "id": "0c6f6280-675a-4175-8934-05f8e6d9f028",
   "metadata": {},
   "outputs": [
    {
     "name": "stdout",
     "output_type": "stream",
     "text": [
      "2561327494111820313\n"
     ]
    }
   ],
   "source": [
    "# 求阶乘1+2!+3!+...+20!的和\n",
    "# # 直接引用函数\n",
    "# import math\n",
    "\n",
    "# sum1 = 0\n",
    "# for i in range(1,21):\n",
    "#     sum1 += math.factorial(i)\n",
    "# print(sum1)\n",
    "\n",
    "# 函数复现\n",
    "def factorial_py(n):\n",
    "    if not isinstance(n,int):\n",
    "        raise ValueError(\"n 必须为一个整数\")\n",
    "    if n < 0:\n",
    "        raise ValueError(\"n 必须为非负数\")\n",
    "\n",
    "    result = 1\n",
    "    for i in range(2, n+1):\n",
    "        result *= i\n",
    "    return result\n",
    "\n",
    "sum1 = 0\n",
    "for i in range(1, 21):\n",
    "    sum1 += factorial_py(i)\n",
    "print(sum1)"
   ]
  },
  {
   "cell_type": "markdown",
   "id": "1dc8147d-cb8c-4f85-b0a9-ecbe7cec3599",
   "metadata": {},
   "source": [
    "先定义基础函数，再循环引用"
   ]
  },
  {
   "cell_type": "code",
   "execution_count": 20,
   "id": "59d7b92b-9cc7-4eaa-99c9-91f25abe1719",
   "metadata": {},
   "outputs": [
    {
     "name": "stdout",
     "output_type": "stream",
     "text": [
      "18\n"
     ]
    }
   ],
   "source": [
    "# 5个人，5说：比4大2；4说：比3大2；3说：比2大2；2说：比1大2；1说：我10.问：5多大？\n",
    "# n = 10\n",
    "# for i in range(1,5):\n",
    "#     n += 2\n",
    "# print(n)\n",
    "\n",
    "# 递归\n",
    "def func(n):\n",
    "    if n == 1:\n",
    "        return 10\n",
    "    else:\n",
    "        return func(n-1) + 2\n",
    "print(func(5))"
   ]
  },
  {
   "cell_type": "code",
   "execution_count": 23,
   "id": "1150477f-42f5-4647-a6ba-f67ce079a9d5",
   "metadata": {},
   "outputs": [
    {
     "name": "stdin",
     "output_type": "stream",
     "text": [
      "输入数字： 12345678987654321\n"
     ]
    },
    {
     "name": "stdout",
     "output_type": "stream",
     "text": [
      "yes\n"
     ]
    }
   ],
   "source": [
    "# 输入一个数判断是否为回文数\n",
    "a = int(input(\"输入数字：\"))\n",
    "a = str(a)\n",
    "b = a[::-1]\n",
    "if a == b:\n",
    "    print(\"yes\")\n",
    "else:\n",
    "    print(\"no\")"
   ]
  },
  {
   "cell_type": "code",
   "execution_count": 32,
   "id": "d0ad73bd-b8aa-4d08-bc85-4ca682e877b0",
   "metadata": {},
   "outputs": [
    {
     "name": "stdin",
     "output_type": "stream",
     "text": [
      "请输入第一个字母： m\n"
     ]
    },
    {
     "name": "stdout",
     "output_type": "stream",
     "text": [
      "输入错误\n"
     ]
    }
   ],
   "source": [
    "# 判断星期几，输入第一个字母判断是星期几，第一个字母一样则判断第二个以此类推\n",
    "# Monday、Tuesday、Wednesday、Thursday、Friday、Saturday、Sunday\n",
    "a = input(\"请输入第一个字母：\")\n",
    "if a == 'M':\n",
    "    print(\"星期一\")\n",
    "elif a == 'W':\n",
    "    print(\"星期三\")\n",
    "elif a == 'F':\n",
    "    print(\"星期五\")\n",
    "elif a == 'T':\n",
    "    b = input(\"请输入第二个字母：\")\n",
    "    if b == 'u':\n",
    "        print(\"星期二\")\n",
    "    elif b == 'h':\n",
    "        print(\"星期四\")\n",
    "    else:\n",
    "        print(\"输入错误\")\n",
    "elif a == 'S':\n",
    "    c = input(\"请输入第二个字母：\")\n",
    "    if c == 'a':\n",
    "        print(\"星期六\")\n",
    "    elif c == 'u':\n",
    "        print(\"星期日\")\n",
    "    else:\n",
    "        print(\"输入错误\")\n",
    "else:\n",
    "    print(\"输入错误\")"
   ]
  },
  {
   "cell_type": "code",
   "execution_count": 34,
   "id": "df71e8b9-b26d-47ea-985a-85bea4b16ae7",
   "metadata": {},
   "outputs": [
    {
     "name": "stdout",
     "output_type": "stream",
     "text": [
      "[5, 4, 3, 2, 1]\n"
     ]
    }
   ],
   "source": [
    "# 相反顺序输出列表\n",
    "list = [1,2,3,4,5]\n",
    "\n",
    "# # method 1\n",
    "# list.reverse()\n",
    "# print(list)\n",
    "\n",
    "# method 2\n",
    "list1 = list[::-1]\n",
    "print(list1)"
   ]
  },
  {
   "cell_type": "code",
   "execution_count": 50,
   "id": "4991c033-8c91-4e1d-b94a-9e3f9256193c",
   "metadata": {},
   "outputs": [
    {
     "name": "stdin",
     "output_type": "stream",
     "text": [
      " 1 5 3\n"
     ]
    },
    {
     "name": "stdout",
     "output_type": "stream",
     "text": [
      "[1, 3, 5]\n"
     ]
    },
    {
     "data": {
      "text/plain": [
       "\u001b[1;31mSignature:\u001b[0m \u001b[0mlist\u001b[0m\u001b[1;33m.\u001b[0m\u001b[0msort\u001b[0m\u001b[1;33m(\u001b[0m\u001b[0mself\u001b[0m\u001b[1;33m,\u001b[0m \u001b[1;33m/\u001b[0m\u001b[1;33m,\u001b[0m \u001b[1;33m*\u001b[0m\u001b[1;33m,\u001b[0m \u001b[0mkey\u001b[0m\u001b[1;33m=\u001b[0m\u001b[1;32mNone\u001b[0m\u001b[1;33m,\u001b[0m \u001b[0mreverse\u001b[0m\u001b[1;33m=\u001b[0m\u001b[1;32mFalse\u001b[0m\u001b[1;33m)\u001b[0m\u001b[1;33m\u001b[0m\u001b[1;33m\u001b[0m\u001b[0m\n",
       "\u001b[1;31mDocstring:\u001b[0m\n",
       "Sort the list in ascending order and return None.\n",
       "\n",
       "The sort is in-place (i.e. the list itself is modified) and stable (i.e. the\n",
       "order of two equal elements is maintained).\n",
       "\n",
       "If a key function is given, apply it once to each list item and sort them,\n",
       "ascending or descending, according to their function values.\n",
       "\n",
       "The reverse flag can be set to sort in descending order.\n",
       "\u001b[1;31mType:\u001b[0m      method_descriptor"
      ]
     },
     "metadata": {},
     "output_type": "display_data"
    }
   ],
   "source": [
    "# 对十个数进行排序\n",
    "a = map(int,input().split(\" \"))\n",
    "a = list(a)\n",
    "\n",
    "a.sort() # 列表升序排序\n",
    "print(a)\n",
    "list.sort??"
   ]
  },
  {
   "cell_type": "code",
   "execution_count": null,
   "id": "b7efa36d-c480-49a3-8577-b0a680049acb",
   "metadata": {},
   "outputs": [],
   "source": []
  }
 ],
 "metadata": {
  "kernelspec": {
   "display_name": "Python 3 (ipykernel)",
   "language": "python",
   "name": "python3"
  },
  "language_info": {
   "codemirror_mode": {
    "name": "ipython",
    "version": 3
   },
   "file_extension": ".py",
   "mimetype": "text/x-python",
   "name": "python",
   "nbconvert_exporter": "python",
   "pygments_lexer": "ipython3",
   "version": "3.12.7"
  }
 },
 "nbformat": 4,
 "nbformat_minor": 5
}
