{
 "cells": [
  {
   "cell_type": "code",
   "execution_count": 2,
   "id": "0020f63f-1717-4bbc-b036-c9247ef525a7",
   "metadata": {},
   "outputs": [
    {
     "name": "stdout",
     "output_type": "stream",
     "text": [
      "[2, 4, 6, 8, 10, 12, 14, 16, 18, 20, 22, 24, 26, 28, 30, 32, 34, 36, 38, 40, 42, 44, 46, 48, 50, 52, 54, 56, 58, 60, 62, 64, 66, 68, 70, 72, 74, 76, 78, 80, 82, 84, 86, 88, 90, 92, 94, 96, 98]\n"
     ]
    }
   ],
   "source": [
    "# 找出100以内偶数\n",
    "list = []\n",
    "for i in range(1, 100):\n",
    "    if i % 2 == 0:\n",
    "        list.append(i)\n",
    "print(list)"
   ]
  },
  {
   "cell_type": "code",
   "execution_count": 3,
   "id": "f3a08a3a-5ea2-4639-a11f-ff7f58164601",
   "metadata": {},
   "outputs": [
    {
     "name": "stdout",
     "output_type": "stream",
     "text": [
      "[1, 3, 5, 7, 9, 11, 13, 15, 17, 19, 21, 23, 25, 27, 29, 31, 33, 35, 37, 39, 41, 43, 45, 47, 49, 51, 53, 55, 57, 59, 61, 63, 65, 67, 69, 71, 73, 75, 77, 79, 81, 83, 85, 87, 89, 91, 93, 95, 97, 99]\n"
     ]
    }
   ],
   "source": [
    "# 找出100以内奇数\n",
    "list = []\n",
    "for i in range(1, 100):\n",
    "    if i % 2 != 0:\n",
    "        list.append(i)\n",
    "print(list)"
   ]
  },
  {
   "cell_type": "code",
   "execution_count": 6,
   "id": "15b056cb-59bf-4262-8256-dd5f9c5618e9",
   "metadata": {},
   "outputs": [
    {
     "name": "stdout",
     "output_type": "stream",
     "text": [
      "素数\n"
     ]
    }
   ],
   "source": [
    "# 判断一个数是否为素数\n",
    "a = 17\n",
    "flag = False\n",
    "\n",
    "for i in range(2, a):\n",
    "    if a % i == 0:\n",
    "        flag = True\n",
    "        break\n",
    "\n",
    "if flag:\n",
    "    print(\"合数\")\n",
    "else:\n",
    "    print(\"素数\")"
   ]
  },
  {
   "cell_type": "code",
   "execution_count": 22,
   "id": "280b74fd-9ab0-45f7-9b13-8695475d5e4e",
   "metadata": {},
   "outputs": [
    {
     "name": "stdout",
     "output_type": "stream",
     "text": [
      "120\n",
      "120\n"
     ]
    }
   ],
   "source": [
    "# 求出某个自然数的阶乘（一个正整数的阶乘等于所有小于等于该数的正整数的积，且0的阶乘为1，n的阶乘写作n!）\n",
    "# 方法1：非递归\n",
    "n = 5\n",
    "sum = 1\n",
    "for i in range(1, n+1):\n",
    "    sum *= i\n",
    "print(sum)\n",
    "\n",
    "# 方法2：递归\n",
    "def jc(num):\n",
    "    if num == 1:\n",
    "        return 1\n",
    "    else:\n",
    "        return num * jc(num - 1)\n",
    "print(jc(n))\n",
    "# 递归算法：f(x)=xf(x-1),x>=2"
   ]
  },
  {
   "cell_type": "code",
   "execution_count": 26,
   "id": "4ad9126d-2d2f-4f93-a30c-d47b58ab9092",
   "metadata": {},
   "outputs": [
    {
     "name": "stdin",
     "output_type": "stream",
     "text": [
      "请输入半径： 3\n"
     ]
    },
    {
     "name": "stdout",
     "output_type": "stream",
     "text": [
      "圆的周长：18.84955592153876\n",
      "圆的面积：28.274333882308138\n"
     ]
    }
   ],
   "source": [
    "# 求圆的周长\n",
    "import math\n",
    "\n",
    "r = float(input(\"请输入半径：\"))\n",
    "c = 2 * math.pi * r\n",
    "print(f\"圆的周长：{c}\")\n",
    "\n",
    "# 求圆的面积\n",
    "s = math.pi * r * r\n",
    "print(f\"圆的面积：{s}\")"
   ]
  },
  {
   "cell_type": "code",
   "execution_count": 28,
   "id": "91cd1816-af19-49c3-8b70-07d26732bdb5",
   "metadata": {},
   "outputs": [
    {
     "name": "stdin",
     "output_type": "stream",
     "text": [
      "第一边长： 3\n",
      "第二边长： 4\n"
     ]
    },
    {
     "name": "stdout",
     "output_type": "stream",
     "text": [
      "5.0\n"
     ]
    }
   ],
   "source": [
    "# 求直角三角形斜边长\n",
    "import math\n",
    "\n",
    "a = int(input(\"第一边长：\"))\n",
    "b = int(input(\"第二边长：\"))\n",
    "c = math.sqrt(a * a + b * b)\n",
    "print(c)"
   ]
  },
  {
   "cell_type": "code",
   "execution_count": 31,
   "id": "0f93a223-563e-4f82-b77f-f489073677df",
   "metadata": {},
   "outputs": [
    {
     "name": "stdin",
     "output_type": "stream",
     "text": [
      "第一个数： 3\n",
      "第二个数： 1\n",
      "第三个数： 2\n"
     ]
    },
    {
     "name": "stdout",
     "output_type": "stream",
     "text": [
      "1,2,3\n"
     ]
    }
   ],
   "source": [
    "# 比较三个数大小（输入三个数，从小到大输出三个数）\n",
    "a = int(input(\"第一个数：\"))\n",
    "b = int(input(\"第二个数：\"))\n",
    "c = int(input(\"第三个数：\"))\n",
    "\n",
    "list = [a,b,c]\n",
    "list1 = sorted(list)\n",
    "print(f\"{list1[0]},{list1[1]},{list1[2]}\")"
   ]
  },
  {
   "cell_type": "code",
   "execution_count": 33,
   "id": "05133fc7-aac8-48c7-bbad-ff25f09b9478",
   "metadata": {},
   "outputs": [
    {
     "name": "stdin",
     "output_type": "stream",
     "text": [
      "左端点： 2\n",
      "右端点： 100\n"
     ]
    },
    {
     "name": "stdout",
     "output_type": "stream",
     "text": [
      "[2, 3, 5, 7, 11, 13, 17, 19, 23, 29, 31, 37, 41, 43, 47, 53, 59, 61, 67, 71, 73, 79, 83, 89, 97]\n"
     ]
    }
   ],
   "source": [
    "# 找出区间内的素数\n",
    "def prime(n):\n",
    "    flag = True\n",
    "    for i in range(2,n):\n",
    "        if n % i == 0:\n",
    "            flag = False\n",
    "            break\n",
    "    return flag\n",
    "\n",
    "a = int(input(\"左端点：\"))\n",
    "b = int(input(\"右端点：\"))\n",
    "\n",
    "list = []\n",
    "\n",
    "for i in range(a,b+1):\n",
    "    if prime(i):\n",
    "        list.append(i)\n",
    "\n",
    "print(list)"
   ]
  },
  {
   "cell_type": "code",
   "execution_count": 34,
   "id": "ba33e433-590d-4f35-a74a-121ea5e21dcd",
   "metadata": {},
   "outputs": [
    {
     "name": "stdout",
     "output_type": "stream",
     "text": [
      "123\n",
      "124\n",
      "132\n",
      "134\n",
      "142\n",
      "143\n",
      "213\n",
      "214\n",
      "231\n",
      "234\n",
      "241\n",
      "243\n",
      "312\n",
      "314\n",
      "321\n",
      "324\n",
      "341\n",
      "342\n",
      "412\n",
      "413\n",
      "421\n",
      "423\n",
      "431\n",
      "432\n"
     ]
    }
   ],
   "source": [
    "# 1、2、3、4组成无重复数字的三位数\n",
    "for i in range(1,5):\n",
    "    for j in range(1,5):\n",
    "        for m in range(1,5):\n",
    "            if (i != j) and (i != m) and (j != m):\n",
    "                print(f\"{i}{j}{m}\")"
   ]
  },
  {
   "cell_type": "code",
   "execution_count": 37,
   "id": "b1f69d2c-0387-4893-84e3-e6a2e7eeadfa",
   "metadata": {},
   "outputs": [
    {
     "name": "stdout",
     "output_type": "stream",
     "text": [
      "\n",
      "\t1×1=1 \n",
      "\t2×1=2 \t2×2=4 \n",
      "\t3×1=3 \t3×2=6 \t3×3=9 \n",
      "\t4×1=4 \t4×2=8 \t4×3=12 \t4×4=16 \n",
      "\t5×1=5 \t5×2=10 \t5×3=15 \t5×4=20 \t5×5=25 \n",
      "\t6×1=6 \t6×2=12 \t6×3=18 \t6×4=24 \t6×5=30 \t6×6=36 \n",
      "\t7×1=7 \t7×2=14 \t7×3=21 \t7×4=28 \t7×5=35 \t7×6=42 \t7×7=49 \n",
      "\t8×1=8 \t8×2=16 \t8×3=24 \t8×4=32 \t8×5=40 \t8×6=48 \t8×7=56 \t8×8=64 \n",
      "\t9×1=9 \t9×2=18 \t9×3=27 \t9×4=36 \t9×5=45 \t9×6=54 \t9×7=63 \t9×8=72 \t9×9=81 "
     ]
    }
   ],
   "source": [
    "# 打印乘法口诀表\n",
    "for i in range(1,10):\n",
    "    print()\n",
    "    for j in range(1,i+1):\n",
    "        print(f\"\\t{i}×{j}={i*j}\", end=' ')"
   ]
  },
  {
   "cell_type": "code",
   "execution_count": 40,
   "id": "69f3787d-1fbb-41be-81c4-04e62e2be9fe",
   "metadata": {},
   "outputs": [
    {
     "name": "stdout",
     "output_type": "stream",
     "text": [
      "153为水仙花数\n",
      "370为水仙花数\n",
      "371为水仙花数\n",
      "407为水仙花数\n"
     ]
    }
   ],
   "source": [
    "# 找出所有水仙花数\n",
    "'''\n",
    "# 首先要明白如何拿到三位数的每一位数字，第一种方法可以将数字转换为字符串类型，再用索引获取；另外可以直接采用数学方法\n",
    "n = 567\n",
    "a = n % 10 # 个位\n",
    "b = (n % 100) // 10 # 十位\n",
    "c = n // 100 # 百位\n",
    "print(a,b,c) # 输出7 6 5\n",
    "'''\n",
    "for i in range(100,1000):\n",
    "    a = i % 10\n",
    "    b = (i % 100) // 10\n",
    "    c = i // 100\n",
    "    if a*a*a + b*b*b + c*c*c == i:\n",
    "        print(f\"{i}为水仙花数\")"
   ]
  },
  {
   "cell_type": "code",
   "execution_count": 43,
   "id": "7a1ce60f-4926-4d65-91e4-420f225fcf43",
   "metadata": {},
   "outputs": [
    {
     "name": "stdin",
     "output_type": "stream",
     "text": [
      "输入数字: 1000\n"
     ]
    },
    {
     "name": "stdout",
     "output_type": "stream",
     "text": [
      "1\n"
     ]
    }
   ],
   "source": [
    "# 反向输出四位数\n",
    "a = int(input(\"输入数字:\"))\n",
    "a = str(a)\n",
    "a = a[::-1]\n",
    "a = int(a)\n",
    "print(a)"
   ]
  },
  {
   "cell_type": "code",
   "execution_count": 46,
   "id": "52f9446b-a7ea-4829-8d6a-befaa0baed88",
   "metadata": {},
   "outputs": [
    {
     "name": "stdin",
     "output_type": "stream",
     "text": [
      "输入字符: vincent\n"
     ]
    },
    {
     "name": "stdout",
     "output_type": "stream",
     "text": [
      "yes\n"
     ]
    }
   ],
   "source": [
    "# 判断字符是否为字母\n",
    "a = input(\"输入字符:\")\n",
    "result = a.isalpha()\n",
    "if result:\n",
    "    print(\"yes\")\n",
    "else:\n",
    "    print(\"no\")"
   ]
  },
  {
   "cell_type": "code",
   "execution_count": 51,
   "id": "c9b5a523-4715-4ff5-91d8-b44833bf17cc",
   "metadata": {},
   "outputs": [
    {
     "name": "stdin",
     "output_type": "stream",
     "text": [
      "第一条边 3\n",
      "第二条边 4\n",
      "第三条边 5\n"
     ]
    },
    {
     "name": "stdout",
     "output_type": "stream",
     "text": [
      "yes\n"
     ]
    }
   ],
   "source": [
    "# 判断三组数据是否能构成三角形\n",
    "a = int(input(\"第一条边\"))\n",
    "b = int(input(\"第二条边\"))\n",
    "c = int(input(\"第三条边\"))\n",
    "\n",
    "if a <= 0 or b <= 0 or c <= 0:\n",
    "    print(\"数据不合法\")\n",
    "else:\n",
    "    if a+b > c and a+c > b and b+c > a:\n",
    "        print(\"yes\")\n",
    "    else:\n",
    "        print(\"no\")"
   ]
  },
  {
   "cell_type": "code",
   "execution_count": 53,
   "id": "a1e95c34-cd24-49f8-9a1c-25fdae36f3db",
   "metadata": {},
   "outputs": [
    {
     "name": "stdout",
     "output_type": "stream",
     "text": [
      "6是完数\n",
      "28是完数\n",
      "496是完数\n"
     ]
    }
   ],
   "source": [
    "# 找出1000以内的所有完数\n",
    "for i in range(1,1000):\n",
    "    sum = 0\n",
    "    for j in range(1,i):\n",
    "        if i % j == 0:\n",
    "            sum += j\n",
    "    if sum == i:\n",
    "        print(f\"{i}是完数\")"
   ]
  },
  {
   "cell_type": "code",
   "execution_count": 59,
   "id": "f2ab5617-936a-4cb4-828e-48d08fc68849",
   "metadata": {},
   "outputs": [
    {
     "name": "stdin",
     "output_type": "stream",
     "text": [
      "输入一个数: 180\n"
     ]
    },
    {
     "name": "stdout",
     "output_type": "stream",
     "text": [
      "2 2 3 3 5 "
     ]
    }
   ],
   "source": [
    "# 找出一个正整数的质数因子\n",
    "a = int(input(\"输入一个数:\"))\n",
    "y = 2\n",
    "list = []\n",
    "while a != y:\n",
    "    if a % y == 0:\n",
    "        list.append(y)\n",
    "        a /= y\n",
    "    else:\n",
    "        y += 1\n",
    "list.append(int(a))\n",
    "for i in list:\n",
    "    print(i, end=' ')"
   ]
  },
  {
   "cell_type": "code",
   "execution_count": 70,
   "id": "40ec6b55-5eac-498b-b0aa-658c1889579d",
   "metadata": {},
   "outputs": [
    {
     "name": "stdin",
     "output_type": "stream",
     "text": [
      "第一条边 4\n",
      "第二条边 5\n",
      "第三条边 6\n"
     ]
    },
    {
     "name": "stdout",
     "output_type": "stream",
     "text": [
      "9.92\n"
     ]
    }
   ],
   "source": [
    "# 用海伦公式求三角形面积\n",
    "import math\n",
    "\n",
    "a = int(input(\"第一条边\"))\n",
    "b = int(input(\"第二条边\"))\n",
    "c = int(input(\"第三条边\"))\n",
    "\n",
    "if a<=0 or b<=0 or c<=0 or a+b<=c or a+c<=b or b+c<=a:\n",
    "    print(\"数据不合法\")\n",
    "else:\n",
    "    p = (a+b+c)/2\n",
    "    s = math.sqrt(p*(p-a)*(p-b)*(p-c))\n",
    "    print('%.2f' % s) # %.2f保留两位小数"
   ]
  },
  {
   "cell_type": "code",
   "execution_count": 73,
   "id": "6fd3d305-7ee1-4ad5-aee2-b8ceb9acf769",
   "metadata": {},
   "outputs": [
    {
     "name": "stdin",
     "output_type": "stream",
     "text": [
      " 2025 1 1\n"
     ]
    },
    {
     "name": "stdout",
     "output_type": "stream",
     "text": [
      "1\n"
     ]
    }
   ],
   "source": [
    "# 输入某年某月某日,判断这一天是这一年的第几天\n",
    "import datetime\n",
    "\n",
    "year,month,day = map(int,input().split(\" \")) # 得到三个整数型变量,注意这里输入的格式一定是年 月 日\n",
    "first_day = datetime.datetime(year,1,1)\n",
    "input_day = datetime.datetime(year,month,day)\n",
    "print((input_day-first_day).days + 1)"
   ]
  },
  {
   "cell_type": "code",
   "execution_count": 79,
   "id": "b85806d5-6559-4a3e-b12b-90ec8d1a9662",
   "metadata": {},
   "outputs": [
    {
     "name": "stdin",
     "output_type": "stream",
     "text": [
      " 6\n"
     ]
    },
    {
     "name": "stdout",
     "output_type": "stream",
     "text": [
      "8\n"
     ]
    }
   ],
   "source": [
    "# 找出斐波那契数列的第n项\n",
    "n = int(input())\n",
    "\n",
    "# # 递归\n",
    "# def fib(n):\n",
    "#     if n == 1 or n == 2:\n",
    "#         return 1\n",
    "#     else:\n",
    "#         return fib(n-1) + fib(n-2)\n",
    "# print(fib(n))\n",
    "\n",
    "# 非递归\n",
    "fibs = [1,1]\n",
    "for i in range(2,n+1):\n",
    "    fibs.append(fibs[i-1] + fibs[i-2])\n",
    "print(fibs[n-1])"
   ]
  },
  {
   "cell_type": "code",
   "execution_count": 38,
   "id": "f680752a-23a8-4d5d-8ab7-9373522fb672",
   "metadata": {},
   "outputs": [
    {
     "name": "stdout",
     "output_type": "stream",
     "text": [
      "[1, 2, 3, 4]\n"
     ]
    }
   ],
   "source": [
    "# 将一个列表的数据复制到另一个列表(拷贝)\n",
    "# # 直接引用\n",
    "# list = [1,2,3,4]\n",
    "# list1 = list\n",
    "# list[0] = 30\n",
    "# print(list1)\n",
    "# # 输出[30, 2, 3, 4]\n",
    "\n",
    "# 浅拷贝\n",
    "import copy\n",
    "\n",
    "list = [1,2,3,4]\n",
    "list1 = copy.copy(list)\n",
    "list[0] = 30\n",
    "print(list1)"
   ]
  },
  {
   "cell_type": "code",
   "execution_count": 82,
   "id": "33663949-0fe4-4d6e-b9d9-0cd86e05cbb6",
   "metadata": {},
   "outputs": [
    {
     "name": "stdout",
     "output_type": "stream",
     "text": [
      "vincent\n"
     ]
    }
   ],
   "source": [
    "# 暂停一段时间后输出\n",
    "import time\n",
    "\n",
    "time.sleep(3)\n",
    "print(\"vincent\")"
   ]
  },
  {
   "cell_type": "code",
   "execution_count": 86,
   "id": "ee719042-b921-45fd-9e50-78992b5becc2",
   "metadata": {},
   "outputs": [
    {
     "name": "stdin",
     "output_type": "stream",
     "text": [
      "输入成绩: 99\n"
     ]
    },
    {
     "name": "stdout",
     "output_type": "stream",
     "text": [
      "A\n"
     ]
    }
   ],
   "source": [
    "# 用if语句完成：成绩>=90用A表示，60-89用B表示，60以下用C表示\n",
    "score = int(input(\"输入成绩:\"))\n",
    "\n",
    "if 0 <= score <= 100:\n",
    "    if score >= 90:\n",
    "        print('A')\n",
    "    elif 60 <= score <= 89:\n",
    "        print('B')\n",
    "    else:\n",
    "        print('C')\n",
    "else:\n",
    "    print('成绩异常')"
   ]
  },
  {
   "cell_type": "code",
   "execution_count": 89,
   "id": "108ac023-e3d1-47f3-bcbe-7bc8f7f5d164",
   "metadata": {},
   "outputs": [
    {
     "name": "stdin",
     "output_type": "stream",
     "text": [
      "输入字符： kds./,fv 24gd54654/.,ad  \n"
     ]
    },
    {
     "name": "stdout",
     "output_type": "stream",
     "text": [
      "英文字母：9，数字：7，空格：3，其他字符：6\n"
     ]
    }
   ],
   "source": [
    "# 统计一行字符的英文字母、空格、数字和其他字符的个数\n",
    "string = input('输入字符：')\n",
    "\n",
    "char = 0\n",
    "number = 0\n",
    "space = 0\n",
    "other = 0\n",
    "\n",
    "for i in string:\n",
    "    if i.isalpha():\n",
    "        char += 1\n",
    "    elif i.isdigit():\n",
    "        number += 1\n",
    "    elif i.isspace():\n",
    "        space += 1\n",
    "    else:\n",
    "        other += 1\n",
    "print(f\"英文字母：{char}，数字：{number}，空格：{space}，其他字符：{other}\")"
   ]
  },
  {
   "cell_type": "code",
   "execution_count": 95,
   "id": "9b4a3f11-4b72-4fbb-b290-a5b62903235d",
   "metadata": {},
   "outputs": [
    {
     "name": "stdout",
     "output_type": "stream",
     "text": [
      "[100, 100.0, 50.0, 25.0, 12.5, 6.25, 3.125, 1.5625, 0.78125, 0.390625]\n",
      "299.609375\n",
      "0.1953125\n"
     ]
    }
   ],
   "source": [
    "# 球从100m高度落下，每次落地后反弹高度为原高度一半，求第10次落地时，共经过了多少米？第10次反弹高度？\n",
    "n = 100\n",
    "count = 0\n",
    "list = []\n",
    "\n",
    "while count < 10:\n",
    "    if count == 0:\n",
    "        list.append(n)\n",
    "        n /= 2\n",
    "        count += 1\n",
    "    else:\n",
    "        list.append(2*n)\n",
    "        n /= 2\n",
    "        count += 1\n",
    "print(list)\n",
    "print(sum(list))\n",
    "print(list[9]/2)"
   ]
  },
  {
   "cell_type": "code",
   "execution_count": 104,
   "id": "55469bb5-7d45-4fa5-9056-fec1a90910a8",
   "metadata": {},
   "outputs": [
    {
     "name": "stdout",
     "output_type": "stream",
     "text": [
      "1534\n"
     ]
    }
   ],
   "source": [
    "# 猴子吃桃问题：第一天摘n个桃，第一天吃了一半+1个，第二天吃了剩下的一半+1个，到第10天吃之前只剩下1个桃了，求n\n",
    "# # 递归\n",
    "# m = int(input(\"最后一天剩下的：\"))\n",
    "\n",
    "# def tao(n):\n",
    "#     if n <= 0:\n",
    "#         return('数据异常')\n",
    "#     elif n == 1:\n",
    "#         return m\n",
    "#     else:\n",
    "#         return 2 * tao(n-1) + 2\n",
    "# n = int(input(\"输入天数：\"))\n",
    "# print(tao(n))\n",
    "\n",
    "\n",
    "# # 推广算法，相当于原算法逆推\n",
    "# m = int(input(\"输入第一天摘下数量：\"))\n",
    "\n",
    "# def tao(n):\n",
    "#     if n <= 0:\n",
    "#         return('数据异常')\n",
    "#     elif n == 1:\n",
    "#         return m / 2 - 1\n",
    "#     else:\n",
    "#         return tao(n-1) / 2 - 1\n",
    "# n = int(input(\"第几天：\"))\n",
    "# print(tao(n))\n",
    "\n",
    "# 除了上述的递归方法外，还有其他方法直接计算\n",
    "n = 1\n",
    "for i in range(1,10):\n",
    "    total = (n+1) * 2\n",
    "    n = total\n",
    "print(total)"
   ]
  },
  {
   "cell_type": "code",
   "execution_count": 107,
   "id": "5913d786-0495-497e-9b6c-c7269e73b6ac",
   "metadata": {},
   "outputs": [
    {
     "name": "stdout",
     "output_type": "stream",
     "text": [
      "32.66026079864164\n"
     ]
    }
   ],
   "source": [
    "# 求指定数列的和\n",
    "# 有一分数数列：2/1，3/2，5/3，8/5，13/8...求这个数列的前20项之和\n",
    "sum1 = 0\n",
    "up = 2\n",
    "down = 1\n",
    "\n",
    "for i in range(20):\n",
    "    sum1 += up/down\n",
    "    a = down # 这一步很重要\n",
    "    down = up\n",
    "    up = up + a\n",
    "print(sum1)"
   ]
  },
  {
   "cell_type": "code",
   "execution_count": 18,
   "id": "0c6f6280-675a-4175-8934-05f8e6d9f028",
   "metadata": {},
   "outputs": [
    {
     "name": "stdout",
     "output_type": "stream",
     "text": [
      "2561327494111820313\n"
     ]
    }
   ],
   "source": [
    "# 求阶乘1+2!+3!+...+20!的和\n",
    "# # 直接引用函数\n",
    "# import math\n",
    "\n",
    "# sum1 = 0\n",
    "# for i in range(1,21):\n",
    "#     sum1 += math.factorial(i)\n",
    "# print(sum1)\n",
    "\n",
    "# 函数复现\n",
    "def factorial_py(n):\n",
    "    if not isinstance(n,int):\n",
    "        raise ValueError(\"n 必须为一个整数\")\n",
    "    if n < 0:\n",
    "        raise ValueError(\"n 必须为非负数\")\n",
    "\n",
    "    result = 1\n",
    "    for i in range(2, n+1):\n",
    "        result *= i\n",
    "    return result\n",
    "\n",
    "sum1 = 0\n",
    "for i in range(1, 21):\n",
    "    sum1 += factorial_py(i)\n",
    "print(sum1)"
   ]
  },
  {
   "cell_type": "markdown",
   "id": "1dc8147d-cb8c-4f85-b0a9-ecbe7cec3599",
   "metadata": {},
   "source": [
    "先定义基础函数，再循环引用"
   ]
  },
  {
   "cell_type": "code",
   "execution_count": 20,
   "id": "59d7b92b-9cc7-4eaa-99c9-91f25abe1719",
   "metadata": {},
   "outputs": [
    {
     "name": "stdout",
     "output_type": "stream",
     "text": [
      "18\n"
     ]
    }
   ],
   "source": [
    "# 5个人，5说：比4大2；4说：比3大2；3说：比2大2；2说：比1大2；1说：我10.问：5多大？\n",
    "# n = 10\n",
    "# for i in range(1,5):\n",
    "#     n += 2\n",
    "# print(n)\n",
    "\n",
    "# 递归\n",
    "def func(n):\n",
    "    if n == 1:\n",
    "        return 10\n",
    "    else:\n",
    "        return func(n-1) + 2\n",
    "print(func(5))"
   ]
  },
  {
   "cell_type": "code",
   "execution_count": 23,
   "id": "1150477f-42f5-4647-a6ba-f67ce079a9d5",
   "metadata": {},
   "outputs": [
    {
     "name": "stdin",
     "output_type": "stream",
     "text": [
      "输入数字： 12345678987654321\n"
     ]
    },
    {
     "name": "stdout",
     "output_type": "stream",
     "text": [
      "yes\n"
     ]
    }
   ],
   "source": [
    "# 输入一个数判断是否为回文数\n",
    "a = int(input(\"输入数字：\"))\n",
    "a = str(a)\n",
    "b = a[::-1]\n",
    "if a == b:\n",
    "    print(\"yes\")\n",
    "else:\n",
    "    print(\"no\")"
   ]
  },
  {
   "cell_type": "code",
   "execution_count": 32,
   "id": "d0ad73bd-b8aa-4d08-bc85-4ca682e877b0",
   "metadata": {},
   "outputs": [
    {
     "name": "stdin",
     "output_type": "stream",
     "text": [
      "请输入第一个字母： m\n"
     ]
    },
    {
     "name": "stdout",
     "output_type": "stream",
     "text": [
      "输入错误\n"
     ]
    }
   ],
   "source": [
    "# 判断星期几，输入第一个字母判断是星期几，第一个字母一样则判断第二个以此类推\n",
    "# Monday、Tuesday、Wednesday、Thursday、Friday、Saturday、Sunday\n",
    "a = input(\"请输入第一个字母：\")\n",
    "if a == 'M':\n",
    "    print(\"星期一\")\n",
    "elif a == 'W':\n",
    "    print(\"星期三\")\n",
    "elif a == 'F':\n",
    "    print(\"星期五\")\n",
    "elif a == 'T':\n",
    "    b = input(\"请输入第二个字母：\")\n",
    "    if b == 'u':\n",
    "        print(\"星期二\")\n",
    "    elif b == 'h':\n",
    "        print(\"星期四\")\n",
    "    else:\n",
    "        print(\"输入错误\")\n",
    "elif a == 'S':\n",
    "    c = input(\"请输入第二个字母：\")\n",
    "    if c == 'a':\n",
    "        print(\"星期六\")\n",
    "    elif c == 'u':\n",
    "        print(\"星期日\")\n",
    "    else:\n",
    "        print(\"输入错误\")\n",
    "else:\n",
    "    print(\"输入错误\")"
   ]
  },
  {
   "cell_type": "code",
   "execution_count": 34,
   "id": "df71e8b9-b26d-47ea-985a-85bea4b16ae7",
   "metadata": {},
   "outputs": [
    {
     "name": "stdout",
     "output_type": "stream",
     "text": [
      "[5, 4, 3, 2, 1]\n"
     ]
    }
   ],
   "source": [
    "# 相反顺序输出列表\n",
    "list = [1,2,3,4,5]\n",
    "\n",
    "# # method 1\n",
    "# list.reverse()\n",
    "# print(list)\n",
    "\n",
    "# method 2\n",
    "list1 = list[::-1]\n",
    "print(list1)"
   ]
  },
  {
   "cell_type": "code",
   "execution_count": 50,
   "id": "4991c033-8c91-4e1d-b94a-9e3f9256193c",
   "metadata": {},
   "outputs": [
    {
     "name": "stdin",
     "output_type": "stream",
     "text": [
      " 1 5 3\n"
     ]
    },
    {
     "name": "stdout",
     "output_type": "stream",
     "text": [
      "[1, 3, 5]\n"
     ]
    },
    {
     "data": {
      "text/plain": [
       "\u001b[1;31mSignature:\u001b[0m \u001b[0mlist\u001b[0m\u001b[1;33m.\u001b[0m\u001b[0msort\u001b[0m\u001b[1;33m(\u001b[0m\u001b[0mself\u001b[0m\u001b[1;33m,\u001b[0m \u001b[1;33m/\u001b[0m\u001b[1;33m,\u001b[0m \u001b[1;33m*\u001b[0m\u001b[1;33m,\u001b[0m \u001b[0mkey\u001b[0m\u001b[1;33m=\u001b[0m\u001b[1;32mNone\u001b[0m\u001b[1;33m,\u001b[0m \u001b[0mreverse\u001b[0m\u001b[1;33m=\u001b[0m\u001b[1;32mFalse\u001b[0m\u001b[1;33m)\u001b[0m\u001b[1;33m\u001b[0m\u001b[1;33m\u001b[0m\u001b[0m\n",
       "\u001b[1;31mDocstring:\u001b[0m\n",
       "Sort the list in ascending order and return None.\n",
       "\n",
       "The sort is in-place (i.e. the list itself is modified) and stable (i.e. the\n",
       "order of two equal elements is maintained).\n",
       "\n",
       "If a key function is given, apply it once to each list item and sort them,\n",
       "ascending or descending, according to their function values.\n",
       "\n",
       "The reverse flag can be set to sort in descending order.\n",
       "\u001b[1;31mType:\u001b[0m      method_descriptor"
      ]
     },
     "metadata": {},
     "output_type": "display_data"
    }
   ],
   "source": [
    "# 对十个数进行排序\n",
    "a = map(int,input().split(\" \"))\n",
    "a = list(a)\n",
    "\n",
    "a.sort() # 列表升序排序\n",
    "print(a)\n",
    "list.sort??"
   ]
  },
  {
   "cell_type": "code",
   "execution_count": 59,
   "id": "b7efa36d-c480-49a3-8577-b0a680049acb",
   "metadata": {},
   "outputs": [
    {
     "name": "stdin",
     "output_type": "stream",
     "text": [
      " 1\n",
      " 2\n",
      " 3\n",
      " 4\n",
      " 5\n",
      " 6\n",
      " 7\n",
      " 8\n",
      " 9\n"
     ]
    },
    {
     "name": "stdout",
     "output_type": "stream",
     "text": [
      "15\n"
     ]
    }
   ],
   "source": [
    "# 求3*3矩阵主对角线元素之和\n",
    "a = []\n",
    "sum1 = 0\n",
    "for i in range(3):\n",
    "    a.append([])\n",
    "    for j in range(3):\n",
    "        k = int(input())\n",
    "        a[i].append(k)\n",
    "        if i == j:\n",
    "            sum1 += a[i][j]\n",
    "print(sum1)"
   ]
  },
  {
   "cell_type": "code",
   "execution_count": 86,
   "id": "7fee2c1c-a087-4ee1-9a53-0fbe00089f7f",
   "metadata": {},
   "outputs": [
    {
     "name": "stdin",
     "output_type": "stream",
     "text": [
      " 6\n"
     ]
    },
    {
     "name": "stdout",
     "output_type": "stream",
     "text": [
      "[1, 5, 6, 9, 30, 60]\n"
     ]
    }
   ],
   "source": [
    "# 有序列表中插入数据\n",
    "list1 = [1,5,9,30,60]\n",
    "\n",
    "# # 排序函数\n",
    "# n = int(input())\n",
    "# list1.append(n)\n",
    "# list1.sort()\n",
    "# print(list1)\n",
    "\n",
    "# 遍历\n",
    "n = int(input())\n",
    "m = len(list1)\n",
    "for i in range(m):\n",
    "    if n < list1[i]:\n",
    "        list1.insert(i,n)\n",
    "        break\n",
    "else:\n",
    "    list1.append(n)\n",
    "print(list1)"
   ]
  },
  {
   "cell_type": "code",
   "execution_count": 89,
   "id": "aeb96f2d-f6b4-4628-9e5b-6256e4c43063",
   "metadata": {},
   "outputs": [
    {
     "name": "stdout",
     "output_type": "stream",
     "text": [
      "2 1\n"
     ]
    }
   ],
   "source": [
    "# 给定两个变量，交换它们的值\n",
    "a = 1\n",
    "b = 2\n",
    "\n",
    "# # method 1\n",
    "# a,b = b,a\n",
    "# print(a,b)\n",
    "\n",
    "# method 2\n",
    "temp = a\n",
    "a = b\n",
    "b = temp\n",
    "print(a,b)"
   ]
  },
  {
   "cell_type": "code",
   "execution_count": 96,
   "id": "4b7c1275-fa4f-4e92-8549-055cb486c52a",
   "metadata": {},
   "outputs": [
    {
     "name": "stdout",
     "output_type": "stream",
     "text": [
      "0.9968022259356054 2 9\n"
     ]
    },
    {
     "data": {
      "text/plain": [
       "\u001b[1;31mSignature:\u001b[0m \u001b[0mrandom\u001b[0m\u001b[1;33m.\u001b[0m\u001b[0mrandrange\u001b[0m\u001b[1;33m(\u001b[0m\u001b[0mstart\u001b[0m\u001b[1;33m,\u001b[0m \u001b[0mstop\u001b[0m\u001b[1;33m=\u001b[0m\u001b[1;32mNone\u001b[0m\u001b[1;33m,\u001b[0m \u001b[0mstep\u001b[0m\u001b[1;33m=\u001b[0m\u001b[1;36m1\u001b[0m\u001b[1;33m)\u001b[0m\u001b[1;33m\u001b[0m\u001b[1;33m\u001b[0m\u001b[0m\n",
       "\u001b[1;31mDocstring:\u001b[0m\n",
       "Choose a random item from range(stop) or range(start, stop[, step]).\n",
       "\n",
       "Roughly equivalent to ``choice(range(start, stop, step))`` but\n",
       "supports arbitrarily large ranges and is optimized for common cases.\n",
       "\u001b[1;31mFile:\u001b[0m      e:\\anaconda\\lib\\random.py\n",
       "\u001b[1;31mType:\u001b[0m      method"
      ]
     },
     "metadata": {},
     "output_type": "display_data"
    }
   ],
   "source": [
    "# 生成随机数\n",
    "import random\n",
    "\n",
    "a = random.random()\n",
    "b = random.randint(1,10) # 包含右端点，无步长\n",
    "c = random.randrange(1,10) # 不包含右端点，可以有步长\n",
    "print(a,b,c)\n",
    "random.randrange?"
   ]
  },
  {
   "cell_type": "code",
   "execution_count": 97,
   "id": "eb52a7c2-1e4f-40c4-a31c-9c40a20ea15a",
   "metadata": {},
   "outputs": [
    {
     "name": "stdout",
     "output_type": "stream",
     "text": [
      "6\n"
     ]
    }
   ],
   "source": [
    "# 用lambda来创建匿名函数\n",
    "a = lambda x,y:x*y\n",
    "print(a(2,3))"
   ]
  },
  {
   "cell_type": "code",
   "execution_count": 99,
   "id": "6fbce362-bdfe-48d0-82f2-d89de25ed928",
   "metadata": {},
   "outputs": [
    {
     "name": "stdin",
     "output_type": "stream",
     "text": [
      "摄氏度请按1，华氏度请按2 2\n",
      "请输入华氏度： 2\n"
     ]
    },
    {
     "name": "stdout",
     "output_type": "stream",
     "text": [
      "对应摄氏度为：-16.666666666666668\n"
     ]
    }
   ],
   "source": [
    "# 摄氏度与华氏度转换（华氏度=摄氏度*1.8+32）\n",
    "a = int(input(\"摄氏度请按1，华氏度请按2\"))\n",
    "\n",
    "if a == 1:\n",
    "    b = float(input(\"请输入摄氏度：\"))\n",
    "    result1 = b * 1.8 + 32\n",
    "    print(f\"对应华氏度为：{result1}\")\n",
    "elif a == 2:\n",
    "    c = float(input(\"请输入华氏度：\"))\n",
    "    result2 = (c - 32) / 1.8\n",
    "    print(f\"对应摄氏度为：{result2}\")\n",
    "else:\n",
    "    print(\"输入错误，请重新输入\")"
   ]
  },
  {
   "cell_type": "code",
   "execution_count": 100,
   "id": "174eca14-f240-475f-80f2-be865800e06f",
   "metadata": {},
   "outputs": [
    {
     "name": "stdout",
     "output_type": "stream",
     "text": [
      "4\n"
     ]
    }
   ],
   "source": [
    "# 输入两个数，输出按位与运算的结果\n",
    "# 直接用 & 计算\n",
    "print(4 & 12)"
   ]
  },
  {
   "cell_type": "code",
   "execution_count": 102,
   "id": "d0467bba-49a7-40a7-b791-c2e775a54b7f",
   "metadata": {},
   "outputs": [
    {
     "name": "stdout",
     "output_type": "stream",
     "text": [
      "7\n"
     ]
    }
   ],
   "source": [
    "# 输入两个数，输出按位或运算的结果\n",
    "print(3 | 7)"
   ]
  },
  {
   "cell_type": "code",
   "execution_count": 103,
   "id": "f135251c-30b3-4b28-b66e-b8999916de92",
   "metadata": {},
   "outputs": [
    {
     "name": "stdout",
     "output_type": "stream",
     "text": [
      "10\n"
     ]
    }
   ],
   "source": [
    "# 输入两个数，输出按位异或运算的结果\n",
    "print(3 ^ 9)"
   ]
  },
  {
   "cell_type": "code",
   "execution_count": 107,
   "id": "304efa84-5627-454f-90e5-2200474a2d18",
   "metadata": {},
   "outputs": [
    {
     "name": "stdout",
     "output_type": "stream",
     "text": [
      "-4\n",
      "-10\n",
      "2\n"
     ]
    }
   ],
   "source": [
    "# 输入一个数，输出按位取反运算的结果\n",
    "# ~x = -(x+1)\n",
    "print(~3)\n",
    "print(~9)\n",
    "print(~(-3))"
   ]
  },
  {
   "cell_type": "code",
   "execution_count": 110,
   "id": "b4e0a445-0fe0-431b-b908-b7ac70f47d7e",
   "metadata": {},
   "outputs": [
    {
     "name": "stdin",
     "output_type": "stream",
     "text": [
      " dgsklhguish\n"
     ]
    },
    {
     "name": "stdout",
     "output_type": "stream",
     "text": [
      "11\n",
      "11\n"
     ]
    }
   ],
   "source": [
    "# 计算字符串长度\n",
    "a = input()\n",
    "\n",
    "# method 1\n",
    "print(len(a))\n",
    "\n",
    "# method 2\n",
    "length = 0\n",
    "for i in a:\n",
    "    length += 1\n",
    "print(length)"
   ]
  },
  {
   "cell_type": "code",
   "execution_count": 115,
   "id": "8d417a30-d965-4073-89f2-19883cddb6e0",
   "metadata": {},
   "outputs": [
    {
     "name": "stdout",
     "output_type": "stream",
     "text": [
      "\t1 \n",
      "\t1 \t1 \n",
      "\t1 \t2 \t1 \n",
      "\t1 \t3 \t3 \t1 \n",
      "\t1 \t4 \t6 \t4 \t1 \n",
      "\t1 \t5 \t10 \t10 \t5 \t1 \n",
      "\t1 \t6 \t15 \t20 \t15 \t6 \t1 \n",
      "\t1 \t7 \t21 \t35 \t35 \t21 \t7 \t1 \n",
      "\t1 \t8 \t28 \t56 \t70 \t56 \t28 \t8 \t1 \n",
      "\t1 \t9 \t36 \t84 \t126 \t126 \t84 \t36 \t9 \t1 \n"
     ]
    }
   ],
   "source": [
    "# 打印杨辉三角\n",
    "a = []\n",
    "\n",
    "for i in range(10):\n",
    "    a.append([])\n",
    "    for j in range(10):\n",
    "        a[i].append(0)\n",
    "\n",
    "for i in range(10):\n",
    "    a[i][0] = 1\n",
    "    a[i][i] = 1\n",
    "\n",
    "for i in range(2,10):\n",
    "    for j in range(1,i):\n",
    "        a[i][j] = a[i - 1][j] + a[i - 1][j - 1]\n",
    "\n",
    "for i in range(10):\n",
    "    for j in range(i+1):\n",
    "        print(f\"\\t{a[i][j]}\",end=\" \")\n",
    "    print()"
   ]
  },
  {
   "cell_type": "code",
   "execution_count": 117,
   "id": "028b0f10-1ef6-41ce-a0f9-b7a362b3bd3a",
   "metadata": {},
   "outputs": [
    {
     "name": "stdout",
     "output_type": "stream",
     "text": [
      "2\n",
      "-1\n"
     ]
    }
   ],
   "source": [
    "# 从字符串中查找字符串\n",
    "a = \"asdfgh\"\n",
    "b = \"df\"\n",
    "c = \"k\"\n",
    "print(a.find(b))\n",
    "print(a.find(c))"
   ]
  },
  {
   "cell_type": "code",
   "execution_count": 122,
   "id": "f705ae54-a151-49d5-9526-f76a15eab03b",
   "metadata": {},
   "outputs": [
    {
     "name": "stdout",
     "output_type": "stream",
     "text": [
      "游戏开始，数字范围：1-99的整数\n",
      "剩余次数：7\n"
     ]
    },
    {
     "name": "stdin",
     "output_type": "stream",
     "text": [
      "输入你要猜的数字：\n",
      " 1\n"
     ]
    },
    {
     "name": "stdout",
     "output_type": "stream",
     "text": [
      "数字过小 \n",
      "\n",
      "剩余次数：6\n"
     ]
    },
    {
     "name": "stdin",
     "output_type": "stream",
     "text": [
      "输入你要猜的数字：\n",
      " 1\n"
     ]
    },
    {
     "name": "stdout",
     "output_type": "stream",
     "text": [
      "数字过小 \n",
      "\n",
      "剩余次数：5\n"
     ]
    },
    {
     "name": "stdin",
     "output_type": "stream",
     "text": [
      "输入你要猜的数字：\n",
      " 1\n"
     ]
    },
    {
     "name": "stdout",
     "output_type": "stream",
     "text": [
      "数字过小 \n",
      "\n",
      "剩余次数：4\n"
     ]
    },
    {
     "name": "stdin",
     "output_type": "stream",
     "text": [
      "输入你要猜的数字：\n",
      " 1\n"
     ]
    },
    {
     "name": "stdout",
     "output_type": "stream",
     "text": [
      "数字过小 \n",
      "\n",
      "剩余次数：3\n"
     ]
    },
    {
     "name": "stdin",
     "output_type": "stream",
     "text": [
      "输入你要猜的数字：\n",
      " 1\n"
     ]
    },
    {
     "name": "stdout",
     "output_type": "stream",
     "text": [
      "数字过小 \n",
      "\n",
      "剩余次数：2\n"
     ]
    },
    {
     "name": "stdin",
     "output_type": "stream",
     "text": [
      "输入你要猜的数字：\n",
      " 1\n"
     ]
    },
    {
     "name": "stdout",
     "output_type": "stream",
     "text": [
      "数字过小 \n",
      "\n",
      "剩余次数：1\n"
     ]
    },
    {
     "name": "stdin",
     "output_type": "stream",
     "text": [
      "输入你要猜的数字：\n",
      " 1\n"
     ]
    },
    {
     "name": "stdout",
     "output_type": "stream",
     "text": [
      "数字过小 \n",
      "\n",
      "挑战失败，正确数字是77\n"
     ]
    }
   ],
   "source": [
    "# 猜数字游戏\n",
    "import random\n",
    "\n",
    "target = random.randint(1,99)\n",
    "times = 7\n",
    "print(\"游戏开始，数字范围：1-99的整数\")\n",
    "while times != 0:\n",
    "    print(f\"剩余次数：{times}\")\n",
    "    num = int(input(\"输入你要猜的数字：\\n\"))\n",
    "    if num > target:\n",
    "        print(\"数字过大 \\n\")\n",
    "        times -= 1\n",
    "    elif num < target:\n",
    "        print(\"数字过小 \\n\")\n",
    "        times -= 1\n",
    "    else:\n",
    "        print(f\"挑战成功，正确数字是{target}\")\n",
    "        break\n",
    "\n",
    "if times == 0:\n",
    "    print(f\"挑战失败，正确数字是{target}\")"
   ]
  },
  {
   "cell_type": "code",
   "execution_count": 128,
   "id": "c4ff6181-fa9b-4878-8b17-f7f48199676f",
   "metadata": {},
   "outputs": [
    {
     "name": "stdin",
     "output_type": "stream",
     "text": [
      " hdhdj\n"
     ]
    },
    {
     "name": "stdout",
     "output_type": "stream",
     "text": [
      "4\n"
     ]
    }
   ],
   "source": [
    "# 在字符串中找到第一个只出现一次的字符并返回位置，若没有则返回-1\n",
    "str = input()\n",
    "\n",
    "a = -1\n",
    "mp = dict()\n",
    "\n",
    "for i in str:\n",
    "    if i in mp:\n",
    "        mp[i] += 1\n",
    "    else:\n",
    "        mp[i] = 1\n",
    "\n",
    "for i in range(len(str)):\n",
    "    if mp[str[i]] == 1:\n",
    "        a = i\n",
    "        break\n",
    "\n",
    "print(a)"
   ]
  },
  {
   "cell_type": "code",
   "execution_count": 143,
   "id": "17b7b0fe-31b0-46b9-a985-4868ceadee2c",
   "metadata": {},
   "outputs": [
    {
     "name": "stdin",
     "output_type": "stream",
     "text": [
      "输入第一个数： 12\n",
      "输入第二个数： 24\n"
     ]
    },
    {
     "name": "stdout",
     "output_type": "stream",
     "text": [
      "12\n"
     ]
    }
   ],
   "source": [
    "# 求两个数的最大公因数\n",
    "# # method 1（先找到两个数的因数，再找公因数，最后找最大公因数）\n",
    "# a = int(input(\"输入第一个数：\"))\n",
    "# b = int(input(\"输入第二个数：\"))\n",
    "# a_y = []\n",
    "# b_y = []\n",
    "# for i in range(1,a+1):\n",
    "#     if a % i == 0:\n",
    "#         a_y.append(i)\n",
    "# for j in range(1,b+1):\n",
    "#     if b % j == 0:\n",
    "#         b_y.append(j)\n",
    "# # print(a_y,b_y)\n",
    "# c_y = []\n",
    "# a_len = len(a_y)\n",
    "# b_len = len(b_y)\n",
    "# for k in range(a_len):\n",
    "#     for l in range(b_len):\n",
    "#         if b_y[l] == a_y[k]:\n",
    "#             c_y.append(a_y[k])\n",
    "# # print(c_y)\n",
    "# m_y = max(c_y)\n",
    "# print(m_y)\n",
    "\n",
    "# # method 2（找到两个数中最小的数，验证小的数是否能被大的数整除，若不能则小的数一直减1直到能被两个数整除）\n",
    "# def func1(a,b):\n",
    "#     if a == b:\n",
    "#         return a\n",
    "#     num = min(a,b)\n",
    "#     while a % num != 0 or b % num != 0:\n",
    "#         num -= 1\n",
    "#     return num\n",
    "# a = int(input(\"输入第一个数：\"))\n",
    "# b = int(input(\"输入第二个数：\"))\n",
    "# print(func1(a,b))\n",
    "\n",
    "# method 3(欧几里得算法（辗转相除法）)\n",
    "def func2(a,b):\n",
    "    while b != 0:\n",
    "        a,b = b,a%b\n",
    "    return a\n",
    "a = int(input(\"输入第一个数：\"))\n",
    "b = int(input(\"输入第二个数：\"))\n",
    "print(func2(a,b))"
   ]
  },
  {
   "cell_type": "code",
   "execution_count": 146,
   "id": "e3970916-0465-4122-b7ff-c8db947c5c88",
   "metadata": {},
   "outputs": [
    {
     "name": "stdout",
     "output_type": "stream",
     "text": [
      "[3, 6]\n"
     ]
    }
   ],
   "source": [
    "# 给定一个长度N的正整数数组nums，其中nums[i]的值都在区间[1,n]内，找出nums数组在[1,n]范围内未出现过的数字，并放到数组里面返回\n",
    "# 如输入[2,1,4,5,1,2],输出[3,6]\n",
    "def func(nums):\n",
    "    l = [i for i in range(1,len(nums) + 1)] # 列表生成式\n",
    "    l2 = []\n",
    "    nums = set(nums) # 转集合操作，若nums为[1,2,1,2],转集合后输出[1,2]\n",
    "    for j in l:\n",
    "        if j in nums:\n",
    "            continue\n",
    "        else:\n",
    "            l2.append(j)\n",
    "    return l2\n",
    "\n",
    "list1 = [1,2,4,5,1,2]\n",
    "print(func(list1))"
   ]
  },
  {
   "cell_type": "code",
   "execution_count": 147,
   "id": "ad71fa89-d8e6-46cc-90db-b34064e6a59a",
   "metadata": {},
   "outputs": [
    {
     "name": "stdin",
     "output_type": "stream",
     "text": [
      " fja gfjk fasjk gh\n"
     ]
    },
    {
     "name": "stdout",
     "output_type": "stream",
     "text": [
      "fja%gfjk%fasjk%gh\n"
     ]
    }
   ],
   "source": [
    "# 将字符串中的空格替换为‘%’\n",
    "str1 = input()\n",
    "\n",
    "def func(s):\n",
    "    res = ''\n",
    "    for i in s:\n",
    "        if i != ' ':\n",
    "            res += i\n",
    "        else:\n",
    "            res += '%'\n",
    "    return res\n",
    "\n",
    "print(func(str1))"
   ]
  },
  {
   "cell_type": "code",
   "execution_count": 175,
   "id": "75f24167-98c5-4efc-85ac-8f09a3171adf",
   "metadata": {},
   "outputs": [
    {
     "name": "stdout",
     "output_type": "stream",
     "text": [
      "True\n"
     ]
    }
   ],
   "source": [
    "# 判断一个正整数是否为快乐数\n",
    "# # # method 1（集合检测循环）\n",
    "# def func(num):\n",
    "#     seen = set() # 创建一个集合记录已经出现过的数字（集合中不会出现重复元素）\n",
    "#     while True:\n",
    "#         sum1 = 0\n",
    "#         for char in str(num):\n",
    "#             digit = int(char)\n",
    "#             sum1 += digit * digit\n",
    "#         print(f'当前平方和：{sum1}')\n",
    "#         if sum1 == 1:\n",
    "#             return True\n",
    "#         elif sum1 in seen:\n",
    "#             return False\n",
    "#         else:\n",
    "#             seen.add(sum1)\n",
    "#             num = sum1\n",
    "# num1 = int(input())\n",
    "# print(func(num1))\n",
    "\n",
    "# # method 2\n",
    "# def change(x):\n",
    "#     sum1 = 0\n",
    "#     while x > 0:\n",
    "#         j = x % 10\n",
    "#         sum1 += j*j\n",
    "#         x //= 10\n",
    "#     return sum1\n",
    "\n",
    "# def happynumber(n):\n",
    "#     while n > 9:\n",
    "#         n = change(n)\n",
    "#     if n == 1:\n",
    "#         return True\n",
    "#     elif n == 7:\n",
    "#         return True\n",
    "#     else:\n",
    "#         return False\n",
    "\n",
    "# print(happynumber(7))\n",
    "\n",
    "# method 3（快慢指针法）\n",
    "def is_happy(n):\n",
    "    def get_next(num):\n",
    "        total = 0\n",
    "        while num > 0:\n",
    "            num,digit = divmod(num,10) # 返回(num//10,num%10)\n",
    "            total += digit ** 2 # 相当于digit * digit\n",
    "        return total\n",
    "\n",
    "    slow = n\n",
    "    fast = get_next(n)\n",
    "    while fast != 1 and slow != fast:\n",
    "        slow = get_next(slow) # 慢指针每次移动一次\n",
    "        fast = get_next(get_next(fast)) # 快指针每次移动两次\n",
    "    return fast == 1\n",
    "\n",
    "print(is_happy(19))"
   ]
  },
  {
   "cell_type": "code",
   "execution_count": 201,
   "id": "6b690a96-021a-4ecb-b5fb-547879fab7d5",
   "metadata": {},
   "outputs": [
    {
     "name": "stdin",
     "output_type": "stream",
     "text": [
      " 28\n"
     ]
    },
    {
     "name": "stdout",
     "output_type": "stream",
     "text": [
      "3\n"
     ]
    }
   ],
   "source": [
    "# 给定一个正整数，计算其开立方根的结果（结果向下取整，例如9取2）\n",
    "# # # method 1\n",
    "# def func(n):\n",
    "#     if n < 0:\n",
    "#         return '重新输入'\n",
    "#     elif n == 0:\n",
    "#         return '0'\n",
    "#     else:\n",
    "#         for i in range(1,n):\n",
    "#             if i * i * i < n and (i+1) * (i+1) * (i+1) > n:\n",
    "#                 num = i\n",
    "#         return num\n",
    "\n",
    "# n = int(input())\n",
    "# print(func(n))\n",
    "\n",
    "# method 2\n",
    "import math\n",
    "def func(n):\n",
    "    if n < 0:\n",
    "        return '重新输入'\n",
    "    else:\n",
    "        result = math.pow(n,1/3)\n",
    "        return int(result) # 这里用int向下取整\n",
    "\n",
    "n = int(input())\n",
    "print(func(n))"
   ]
  },
  {
   "cell_type": "code",
   "execution_count": 204,
   "id": "e9477568-eaed-4857-9cf3-1f277944bf8c",
   "metadata": {},
   "outputs": [
    {
     "name": "stdout",
     "output_type": "stream",
     "text": [
      "abc\n"
     ]
    }
   ],
   "source": [
    "# 给定一个包含n个字符串的字符串数组，求该数组中的最长公共前缀\n",
    "def func(strs):\n",
    "    n = len(strs)\n",
    "    if n == 0:\n",
    "        return ''\n",
    "    for i in range(len(strs[0])):\n",
    "        temp = strs[0][i]\n",
    "        for j in range(1,n):\n",
    "            if i == len(strs[j]) or temp != strs[j][i]: # 如果遍历到的数组中的一个字符串长度小于等于第一个字符串的长度，或遍历到的第一个字符串中的元素不等于其他字符串的对应索引的元素\n",
    "                return strs[0][0:i] # 返回第一个字符串中遍历过的元素\n",
    "    return strs[0] # 若第一个字符串中的元素遍历完了，则返回第一个字符串\n",
    "\n",
    "strs = ['abca','abcd','abcc','abcfd','abc']\n",
    "print(func(strs))"
   ]
  },
  {
   "cell_type": "code",
   "execution_count": 205,
   "id": "d7e5a76b-38aa-4e63-a254-e97a4d61541f",
   "metadata": {},
   "outputs": [
    {
     "name": "stdin",
     "output_type": "stream",
     "text": [
      " GPkjkl HIlkhjk klhjlLHLIK\n"
     ]
    },
    {
     "name": "stdout",
     "output_type": "stream",
     "text": [
      "KLHJLlhlik hiLKHJK gpKJKL\n"
     ]
    }
   ],
   "source": [
    "# 字符串变形（比如Hello World变形为wORLD hELLO）\n",
    "def func(s):\n",
    "    list1 = s.split(' ') # 会把分割后的元素作为不同元素装到列表中\n",
    "    list1 = list1[::-1]\n",
    "    s = ''\n",
    "    for i in list1:\n",
    "        i = i.swapcase() # swapcase函数进行字母大小写转换\n",
    "        s += i\n",
    "        s += ' '\n",
    "    return s[0:len(s)-1]\n",
    "\n",
    "s = input()\n",
    "print(func(s))"
   ]
  },
  {
   "cell_type": "code",
   "execution_count": 209,
   "id": "e4e7ce51-d656-4786-b4cc-821ff55667c8",
   "metadata": {},
   "outputs": [
    {
     "name": "stdin",
     "output_type": "stream",
     "text": [
      " abbbcdd\n"
     ]
    },
    {
     "name": "stdout",
     "output_type": "stream",
     "text": [
      "ab3cd2\n"
     ]
    }
   ],
   "source": [
    "# 压缩字符串（比如aabcccccaaa压缩为a2bc5a3，1不用写且字符串中只包含大小写英文字母）\n",
    "def func(s):\n",
    "    list1 = []\n",
    "    for i in s:\n",
    "        if not list1 or list1[-2] != i: # 若这里把not list1条件放后面会出现超出范围错误\n",
    "            list1.append(i)\n",
    "            list1.append(1)\n",
    "        else:\n",
    "            list1[-1] += 1\n",
    "    return ''.join(map(str,[x for x in list1 if x != 1]))\n",
    "\n",
    "s = input()\n",
    "print(func(s))"
   ]
  },
  {
   "cell_type": "code",
   "execution_count": 214,
   "id": "5013ef3e-8823-476f-97b2-ce0d2f3f79a6",
   "metadata": {},
   "outputs": [
    {
     "name": "stdout",
     "output_type": "stream",
     "text": [
      "-6\n"
     ]
    }
   ],
   "source": [
    "# 给定一个长度为n的无序数组，从中找出三个数，使得乘积最大并返回乘积\n",
    "def func(lst):\n",
    "    lst.sort()\n",
    "    return max(lst[0]*lst[1]*lst[-1], lst[-1]*lst[-2]*lst[-3]) # q前者符合两个或以上负数加正数情况，后者符合全负数或三个及以上正数情况\n",
    "\n",
    "lst = [-1,-2,-3,-4,-5]\n",
    "print(func(lst))"
   ]
  },
  {
   "cell_type": "code",
   "execution_count": 216,
   "id": "1b6714a7-7783-4a04-ba30-844007122d59",
   "metadata": {
    "scrolled": true
   },
   "outputs": [
    {
     "name": "stdin",
     "output_type": "stream",
     "text": [
      "输入十进制数： 10\n"
     ]
    },
    {
     "name": "stdout",
     "output_type": "stream",
     "text": [
      "0b1010\n"
     ]
    }
   ],
   "source": [
    "# python实现十进制转二进制\n",
    "a = int(input(\"输入十进制数：\"))\n",
    "b = bin(a)\n",
    "print(b) # 0b表示这是二进制"
   ]
  },
  {
   "cell_type": "code",
   "execution_count": 218,
   "id": "d9a43f52-e072-4e2f-956d-651282266b9a",
   "metadata": {},
   "outputs": [
    {
     "name": "stdin",
     "output_type": "stream",
     "text": [
      " asdfghjkl\n"
     ]
    },
    {
     "name": "stdout",
     "output_type": "stream",
     "text": [
      "True\n"
     ]
    }
   ],
   "source": [
    "# 判断一个字符串中的字符是否全都不同\n",
    "def func(strs):\n",
    "    for i in range(len(strs)):\n",
    "        if strs[i] in strs[i+1:]: # 若i位置在i之后位置的元素有重复\n",
    "            return False\n",
    "    return True\n",
    "\n",
    "strs = input()\n",
    "print(func(strs))"
   ]
  },
  {
   "cell_type": "code",
   "execution_count": 221,
   "id": "05baa1fc-ff70-49f5-885c-8875ad93f922",
   "metadata": {},
   "outputs": [
    {
     "name": "stdin",
     "output_type": "stream",
     "text": [
      " 114.514\n"
     ]
    },
    {
     "name": "stdout",
     "output_type": "stream",
     "text": [
      "117250\n"
     ]
    }
   ],
   "source": [
    "# 将IP地址转化为整数\n",
    "def func(strs):\n",
    "    strs1 = strs.split('.')\n",
    "    res = ''\n",
    "    for i in strs1:\n",
    "        # 十进制转二进制高位补0\n",
    "        # '{:08b}'.format(int(val))\n",
    "        # :前面可以放索引，当format中有多个元素时，可以用索引来选择\n",
    "        res += '{:08b}'.format(int(i)) # b：将整数转换为二进制字符串；08：指定总长度为8，不足时左侧补0\n",
    "    return int(res, 2)\n",
    "\n",
    "strs = input()\n",
    "print(func(strs))"
   ]
  },
  {
   "cell_type": "code",
   "execution_count": 231,
   "id": "8f22c1c2-1371-468a-a8ad-c448b6fc4b72",
   "metadata": {},
   "outputs": [
    {
     "name": "stdin",
     "output_type": "stream",
     "text": [
      " 6\n"
     ]
    },
    {
     "name": "stdout",
     "output_type": "stream",
     "text": [
      "3\n"
     ]
    }
   ],
   "source": [
    "# 实现无重复数字的升序数组的二分查找\n",
    "def func(nums, target):\n",
    "    left = 0 \n",
    "    right = len(nums) - 1\n",
    "    # 从数组的首位开始，直到两个指针相遇\n",
    "    while left <= right:\n",
    "        middle = int((left + right) / 2)\n",
    "        if nums[middle] == target:\n",
    "            return middle\n",
    "        elif nums[middle] > target:\n",
    "            right = middle - 1\n",
    "        else:\n",
    "            left = middle + 1\n",
    "    return -1\n",
    "\n",
    "nums = [1,3,5,6,7,9]\n",
    "target = int(input())\n",
    "print(func(nums,target))"
   ]
  },
  {
   "cell_type": "code",
   "execution_count": 4,
   "id": "363eb663-1cde-4ef1-98f1-67c7c095491d",
   "metadata": {},
   "outputs": [
    {
     "name": "stdin",
     "output_type": "stream",
     "text": [
      " 5\n"
     ]
    },
    {
     "name": "stdout",
     "output_type": "stream",
     "text": [
      "3\n"
     ]
    }
   ],
   "source": [
    "# 实现有重复数字的升序数组的二分查找\n",
    "def func(nums, target):\n",
    "    left = 0\n",
    "    right = len(nums) - 1\n",
    "    while left <= right:\n",
    "        middle = (left + right) // 2\n",
    "        if nums[middle] == target:\n",
    "            temp = middle\n",
    "            while nums[temp] == target and temp >= 0: # 注意这里在最后一步temp会多走一步，所以后面要+1\n",
    "                temp -= 1\n",
    "            return temp + 1\n",
    "        elif nums[middle] > target:\n",
    "            regit = middle - 1\n",
    "        else:\n",
    "            left = middle + 1\n",
    "    return -1\n",
    "\n",
    "nums = [1,3,3,5,5,7]\n",
    "target = int(input())\n",
    "print(func(nums,target))"
   ]
  },
  {
   "cell_type": "code",
   "execution_count": 5,
   "id": "caf79404-dc34-4326-a024-276535d0f7b5",
   "metadata": {},
   "outputs": [
    {
     "name": "stdout",
     "output_type": "stream",
     "text": [
      "[1, 3, 4, 5, 0, 0, 0]\n"
     ]
    }
   ],
   "source": [
    "# 对一个数组，实现将所有0移动到数组末尾并且不改变其他数字的相对顺序\n",
    "def func(nums):\n",
    "    for i in nums:\n",
    "        if i == 0:\n",
    "            nums.remove(i) # 移除0\n",
    "            nums.append(0) # 添加0\n",
    "    return nums\n",
    "\n",
    "nums = [0,1,3,0,4,0,5]\n",
    "print(func(nums))"
   ]
  },
  {
   "cell_type": "code",
   "execution_count": 2,
   "id": "3823f58f-7b31-4a3d-941c-09a7a64d75eb",
   "metadata": {},
   "outputs": [
    {
     "name": "stdin",
     "output_type": "stream",
     "text": [
      "输入第一个字符串： hello\n",
      "输入第二个字符串： hell\n"
     ]
    },
    {
     "name": "stdout",
     "output_type": "stream",
     "text": [
      "False\n"
     ]
    }
   ],
   "source": [
    "# 旋转字符串。两个字符串A和B，若将A从某个位置切开分割为左右两个字符串，将左边字符串移到右边可组成B，则返回True\n",
    "# 假设a=hello，b=llohe，要判断b是否为a拼接而来，可以拼接两个a\n",
    "# hellohello，若b由a拼接而来，那么b就可以在两个a拼接的字符串中找到\n",
    "def func(a,b):\n",
    "    if len(a) != len(b):\n",
    "        return False\n",
    "    else:\n",
    "        a2 = a + a\n",
    "        result = b in a2\n",
    "        return result\n",
    "\n",
    "a = input(\"输入第一个字符串：\")\n",
    "b = input(\"输入第二个字符串：\")\n",
    "print(func(a,b))"
   ]
  },
  {
   "cell_type": "code",
   "execution_count": 14,
   "id": "6fad64cf-9e4a-4bf7-94ec-dd39ef035430",
   "metadata": {},
   "outputs": [
    {
     "name": "stdin",
     "output_type": "stream",
     "text": [
      "输入第一个字符串： hel\n",
      "输入第二个字符串： hello\n"
     ]
    },
    {
     "name": "stdout",
     "output_type": "stream",
     "text": [
      "True\n"
     ]
    }
   ],
   "source": [
    "# 两个字符串S和T，判断S是否是T的子序列，即是否可以从T删除一些字符串转换成S\n",
    "def func(s,t):\n",
    "    c = '' # 空值用于拼接\n",
    "    n = 0 # 用于标记索引位置\n",
    "    if len(s) > len(t):\n",
    "        return False\n",
    "    for i in t:\n",
    "        while n < len(s):\n",
    "            if i == s[n]:\n",
    "                c += i\n",
    "                n += 1\n",
    "            break\n",
    "    if s == c:\n",
    "        return True\n",
    "    return False\n",
    "\n",
    "s = input(\"输入第一个字符串：\")\n",
    "t = input(\"输入第二个字符串：\")\n",
    "print(func(s,t))"
   ]
  },
  {
   "cell_type": "code",
   "execution_count": 18,
   "id": "80670dcd-c1c2-4341-af1d-a6e2edb4de33",
   "metadata": {},
   "outputs": [
    {
     "name": "stdout",
     "output_type": "stream",
     "text": [
      "-1\n"
     ]
    }
   ],
   "source": [
    "# 长度为n的数组内所有数字都在0到n-1之间，找出数组中任意一个重复的数字\n",
    "def func(nums):\n",
    "    for i in nums:\n",
    "        if nums.count(i) >= 2:\n",
    "            return i\n",
    "    return -1\n",
    "\n",
    "nums = [1,3,4,5]\n",
    "print(func(nums))"
   ]
  },
  {
   "cell_type": "code",
   "execution_count": 20,
   "id": "d57cf11b-0be2-4fc3-bb81-b5caaf8c5a3a",
   "metadata": {},
   "outputs": [
    {
     "name": "stdin",
     "output_type": "stream",
     "text": [
      " acbbfcb\n"
     ]
    },
    {
     "name": "stdout",
     "output_type": "stream",
     "text": [
      "acfcb\n"
     ]
    }
   ],
   "source": [
    "# 字符串的相邻字符去重\n",
    "def func(s):\n",
    "    res = ''\n",
    "    for i in s:\n",
    "        if res == '':\n",
    "            res += i\n",
    "        elif res[-1] == i:\n",
    "            res = res[:-1]\n",
    "        else:\n",
    "            res += i\n",
    "    return res\n",
    "\n",
    "s = input()\n",
    "print(func(s))"
   ]
  },
  {
   "cell_type": "code",
   "execution_count": 25,
   "id": "4007e125-26dd-483f-9cbf-8d19ecc96a61",
   "metadata": {},
   "outputs": [
    {
     "name": "stdin",
     "output_type": "stream",
     "text": [
      "输入一个非负整数： 256\n"
     ]
    },
    {
     "name": "stdout",
     "output_type": "stream",
     "text": [
      "True\n"
     ]
    }
   ],
   "source": [
    "# 对于一个非负整数n，是否存在一个x满足2^x=n，若有返回True，否则返回False\n",
    "# 若n与n-1做按位与运算结果为0，则n为2的幂\n",
    "def func(n):\n",
    "    return n > 0 and n & (n - 1) == 0\n",
    "\n",
    "n = int(input(\"输入一个非负整数：\"))\n",
    "print(func(n))"
   ]
  },
  {
   "cell_type": "code",
   "execution_count": 30,
   "id": "653cefcb-e7ad-4d2e-92d1-87eae98b9b4f",
   "metadata": {},
   "outputs": [
    {
     "name": "stdin",
     "output_type": "stream",
     "text": [
      "输入第一个字符串： abca\n",
      "输入第二个字符串： abcabcabc\n"
     ]
    },
    {
     "name": "stdout",
     "output_type": "stream",
     "text": [
      "abca\n"
     ]
    }
   ],
   "source": [
    "# 求两个字符串str1和str2的最长公共子串\n",
    "# def lcs(str1, str2):\n",
    "#     res = ''\n",
    "#     left = 0\n",
    "#     for i in range(len(str1)):\n",
    "#         if str1[left:i+1] in str2:\n",
    "#             res = str1[left:i+1]\n",
    "#         else:\n",
    "#             left += 1\n",
    "#     return res\n",
    "\n",
    "# str1 = input(\"输入第一个字符串：\")\n",
    "# str2 = input(\"输入第二个字符串：\")\n",
    "# print(lcs(str1,str2))\n",
    "\n",
    "# 优化代码\n",
    "def lcs(str1, str2):\n",
    "    m,n = len(str1),len(str2)\n",
    "    # 初始化动态规划表\n",
    "    dp = [[0] * (n+1) for _ in range(m+1)]\n",
    "    max_length = 0 # 记录最长子串长度\n",
    "    end_pos = 0\n",
    "\n",
    "    for i in range(1,m+1):\n",
    "        for j in range(1,n+1):\n",
    "            if str1[i-1] == str2[j-1]:\n",
    "                dp[i][j] = dp[i-1][j-1] + 1\n",
    "                if dp[i][j] > max_length:\n",
    "                    max_length = dp[i][j]\n",
    "                    end_pos = i\n",
    "            else:\n",
    "                dp[i][j] = 0\n",
    "\n",
    "    return str1[end_pos - max_length:end_pos] if max_length > 0 else \"\"\n",
    "\n",
    "str1 = input(\"输入第一个字符串：\")\n",
    "str2 = input(\"输入第二个字符串：\")\n",
    "print(lcs(str1,str2))"
   ]
  },
  {
   "cell_type": "code",
   "execution_count": 39,
   "id": "36ac4dcc-06c9-425b-8f91-68aa39b354dd",
   "metadata": {},
   "outputs": [
    {
     "name": "stdout",
     "output_type": "stream",
     "text": [
      "[1, 2, 3, 4, 5, 7, 9]\n"
     ]
    }
   ],
   "source": [
    "# 冒泡排序，先取到最大的放右边\n",
    "# 先拿能取到的最左边的值与其相邻的对比，较大的放右边，然后继续与右边相邻的对比，最后得到最大的值就在最右边，结束一次计算，接下来同样方法得到倒数第二个值，以此类推\n",
    "def bubble_sort(li):\n",
    "    for i in range(len(li)): # i取0时，得到最大值，i取1时得到倒数第二个值，以此类推\n",
    "        for j in range(len(li) - 1 - i): # 要保证j+1的值小于等于len(li),也就是i取0时，j+1最大取到len(li)\n",
    "            if li[j] > li[j+1]:\n",
    "                li[j],li[j+1] = li[j+1],li[j]\n",
    "    return li\n",
    "\n",
    "li = [1,5,3,4,9,2,7]\n",
    "print(bubble_sort(li))"
   ]
  },
  {
   "cell_type": "code",
   "execution_count": 40,
   "id": "cf0c0d5d-da4d-4d15-821b-edf00cfd191b",
   "metadata": {},
   "outputs": [
    {
     "name": "stdout",
     "output_type": "stream",
     "text": [
      "[1, 2, 3, 5, 89]\n"
     ]
    }
   ],
   "source": [
    "# 选择排序，先取到最小的放左边\n",
    "# 先拿到最左边的值与剩下所有值对比，得到最小的值，将其放到最左边，然后拿第二个值与剩下所有值对比，最小值放到第二个位置，以此类推\n",
    "def selection_sort(li):\n",
    "    for i in range(len(li) - 1):\n",
    "        min_index = i\n",
    "        for j in range(i,len(li)):\n",
    "            if li[min_index] > li[j]:\n",
    "                min_index = j\n",
    "        li[min_index],li[i] = li[i],li[min_index]\n",
    "    return li\n",
    "\n",
    "li = [5,2,3,89,1]\n",
    "print(selection_sort(li))"
   ]
  },
  {
   "cell_type": "code",
   "execution_count": 43,
   "id": "3bfd35f9-0b53-4ef9-a1ba-e2e5bc33b2a5",
   "metadata": {},
   "outputs": [
    {
     "name": "stdout",
     "output_type": "stream",
     "text": [
      "[1, 2, 5, 23, 78]\n"
     ]
    }
   ],
   "source": [
    "# 插入排序\n",
    "# 先拿第二个与第一个比，将小的放左边，然后拿第三个与前面两个对比，从前面两个中的最右边那个开始对比，小则往左移，再与左边的对比，以此类推\n",
    "def insert_sort(li):\n",
    "    for i in range(1,len(li)):\n",
    "        j = i - 1\n",
    "        key = li[i]\n",
    "        while j >= 0:\n",
    "            if li[j] > key:\n",
    "                li[j+1] = li[j]\n",
    "                li[j] = key\n",
    "            j -= 1\n",
    "    return li\n",
    "\n",
    "li = [5,78,23,1,2]\n",
    "print(insert_sort(li))"
   ]
  },
  {
   "cell_type": "code",
   "execution_count": 46,
   "id": "8b85454f-40af-4631-af3e-653a1b1e1540",
   "metadata": {},
   "outputs": [
    {
     "name": "stdin",
     "output_type": "stream",
     "text": [
      "输入第一个字符串： thankyou\n",
      "输入第二个字符串： ppyou\n"
     ]
    },
    {
     "name": "stdout",
     "output_type": "stream",
     "text": [
      "thank\n"
     ]
    }
   ],
   "source": [
    "# 对于两个字符串strs和sub，从str中完全删除在sub中存在的字符\n",
    "def func(strs, sub):\n",
    "    s = set(sub) # 集合\n",
    "    ans = ''\n",
    "    for c in strs:\n",
    "        if c not in s:\n",
    "            ans += c\n",
    "    return ans\n",
    "\n",
    "strs = input(\"输入第一个字符串：\")\n",
    "sub = input(\"输入第二个字符串：\")\n",
    "print(func(strs, sub))"
   ]
  },
  {
   "cell_type": "code",
   "execution_count": 53,
   "id": "700e15e7-9bf9-4398-b3bf-3d0c0bf2843a",
   "metadata": {},
   "outputs": [
    {
     "name": "stdin",
     "output_type": "stream",
     "text": [
      "输入目标值： 4\n"
     ]
    },
    {
     "name": "stdout",
     "output_type": "stream",
     "text": [
      "[4, 1, 1, 2, 1, 3]\n"
     ]
    }
   ],
   "source": [
    "# 对于一个数组nums和目标值target，将target元素移动到数组前面，其他元素相对顺序不变\n",
    "# 从右端开始遍历，若没有检测到目标值则左右指针一起往左走，若检测到目标值，则右指针停下，左指针往左走，直到又未检测到目标值，此时将左指针的值赋给右指针，直到左指针走到最左边，此时左右指针中间间隔的长度等于检测到的目标值个数，且不等于目标值的字符从右指针的位置往右边排列\n",
    "# 统计检测到的目标值个数，最后将列表前面个数的值替换为目标值即可\n",
    "def func(nums, target):\n",
    "    count = 0\n",
    "    left = len(nums) - 1\n",
    "    right = len(nums) - 1\n",
    "    while left >= 0:\n",
    "        if nums[left] != target:\n",
    "            nums[right] = nums[left]\n",
    "            right -= 1\n",
    "        else:\n",
    "            count += 1\n",
    "        left -= 1\n",
    "    for i in range(count):\n",
    "        nums[i] = target\n",
    "\n",
    "nums = [1,1,2,1,3,4]\n",
    "target = int(input(\"输入目标值：\"))\n",
    "func(nums,target)\n",
    "print(nums)"
   ]
  },
  {
   "cell_type": "code",
   "execution_count": 71,
   "id": "06337c52-7131-4717-9571-20287dd05673",
   "metadata": {},
   "outputs": [
    {
     "name": "stdout",
     "output_type": "stream",
     "text": [
      "True\n"
     ]
    }
   ],
   "source": [
    "# 柠檬水找零，顾客排队买，每次买一杯，一杯5美元，付5、10、20美元，一开始没有零钱，能正确找零返回true，否则返回false\n",
    "# def func(bills):\n",
    "#     five = 0\n",
    "#     ten = 0\n",
    "#     for bill in bills:\n",
    "#         if bill == 5:\n",
    "#             five += 1\n",
    "#         elif bill == 10:\n",
    "#             if five == 0:\n",
    "#                 return False\n",
    "#             five -= 1\n",
    "#             ten += 1\n",
    "#         else:\n",
    "#             if five > 0 and ten > 0:\n",
    "#                 five -= 1\n",
    "#                 ten -= 1\n",
    "#             elif five >= 3:\n",
    "#                 five -= 3\n",
    "#             else:\n",
    "#                 return False\n",
    "#     return True\n",
    "\n",
    "# bills = [5,5,10,10,5,20]\n",
    "# print(func(bills))\n",
    "\n",
    "def func(bills):\n",
    "    doner = 0\n",
    "    for bill in bills:\n",
    "        if bill == 5:\n",
    "            doner += 5\n",
    "        elif bill == 10:\n",
    "            if doner <= 5:\n",
    "                return False\n",
    "            doner += 5\n",
    "        elif bill == 20:\n",
    "            if doner <= 15:\n",
    "                return False\n",
    "            doner += 5\n",
    "    return True\n",
    "\n",
    "bills = [5,5,10,10,20,10]\n",
    "print(func(bills))"
   ]
  },
  {
   "cell_type": "code",
   "execution_count": 87,
   "id": "57af81ae-7e89-42b6-be7f-f5a7a071beda",
   "metadata": {},
   "outputs": [
    {
     "name": "stdin",
     "output_type": "stream",
     "text": [
      "输入一个正整数： 30\n"
     ]
    },
    {
     "name": "stdout",
     "output_type": "stream",
     "text": [
      "7\n"
     ]
    }
   ],
   "source": [
    "# 给一个整数n，计算n!中尾部的0的个数\n",
    "# def func(n):\n",
    "#     count = 0\n",
    "#     for i in range(5,n+1,5):\n",
    "#         while i % 5 == 0:\n",
    "#             i //= 5\n",
    "#             count += 1\n",
    "#     return count\n",
    "\n",
    "# n = int(input(\"输入一个正整数：\"))\n",
    "# print(func(n))\n",
    "\n",
    "def func(n):\n",
    "    count = 0\n",
    "    while n >= 5:\n",
    "        n //= 5\n",
    "        count += n\n",
    "    return count\n",
    "\n",
    "n = int(input(\"输入一个正整数：\"))\n",
    "print(func(n))"
   ]
  },
  {
   "cell_type": "code",
   "execution_count": 91,
   "id": "4e1999b9-7ef5-41d5-abb5-259f0bfbdc74",
   "metadata": {},
   "outputs": [
    {
     "name": "stdout",
     "output_type": "stream",
     "text": [
      "4\n"
     ]
    }
   ],
   "source": [
    "# 给定一个数字k，计算k在0到n中出现的次数\n",
    "def func(k,n):\n",
    "    count = 0\n",
    "    for i in range(1,n+1):\n",
    "        time = str(i).count(str(k))\n",
    "        count += time\n",
    "    return count\n",
    "\n",
    "print(func(1,11))"
   ]
  },
  {
   "cell_type": "code",
   "execution_count": 93,
   "id": "ce9a98a9-09e4-42fa-ab3b-02dd4a0d138b",
   "metadata": {},
   "outputs": [
    {
     "name": "stdout",
     "output_type": "stream",
     "text": [
      "[1, 2, 3, 4, 9, 11]\n"
     ]
    }
   ],
   "source": [
    "# 将有序数组A和B合并,要求合并后的新数组也要有序\n",
    "def func(a,b):\n",
    "    i,j = 0,0\n",
    "    c = []\n",
    "    while i < len(a) and j < len(b):\n",
    "        if a[i] < b[j]:\n",
    "            c.append(a[i])\n",
    "            i += 1\n",
    "        else:\n",
    "            c.append(b[j])\n",
    "            j += 1\n",
    "    while i < len(a):\n",
    "        c.append(a[i])\n",
    "        i += 1\n",
    "    while j < len(b):\n",
    "        c.append(b[j])\n",
    "        j += 1\n",
    "    return c\n",
    "\n",
    "a = [1,4,9]\n",
    "b = [2,3,11]\n",
    "print(func(a,b))"
   ]
  },
  {
   "cell_type": "code",
   "execution_count": 141,
   "id": "0322c2bd-8337-4a15-a23c-c415d0a45fe6",
   "metadata": {},
   "outputs": [
    {
     "name": "stdin",
     "output_type": "stream",
     "text": [
      " -949\n"
     ]
    },
    {
     "name": "stdout",
     "output_type": "stream",
     "text": [
      "-5949\n"
     ]
    }
   ],
   "source": [
    "# 给定一个数字,在数字任意位置插入5,使得插入后的数字最大\n",
    "# 这里需要记录一下问题\n",
    "# 原bug代码\n",
    "# def func(nums):\n",
    "#     nums_new = abs(nums)\n",
    "#     nums_new = str(nums_new)\n",
    "#     nums_new = list(nums_new)\n",
    "#     n = len(nums_new)\n",
    "#     if nums >= 0:\n",
    "#         for i in range(n):\n",
    "#             if int(nums_new[i]) <= 5:\n",
    "#                 nums_new.insert(i,\"5\")\n",
    "#                 break\n",
    "#             else:\n",
    "#                 nums_new.append(\"5\")\n",
    "#                 break\n",
    "#         return int(\"\".join(nums_new))\n",
    "#     else:\n",
    "#         for i in range(n):\n",
    "#             if int(nums_new[i]) >= 5:\n",
    "#                 nums_new.insert(i,\"5\")\n",
    "#                 break\n",
    "#             else:\n",
    "#                 nums_new.append(\"5\")\n",
    "#                 break\n",
    "#         return int(\"-\" + \"\".join(nums_new))\n",
    "\n",
    "# nums = int(input())\n",
    "\n",
    "def func(nums):\n",
    "    nums_new = abs(nums)\n",
    "    nums_new = str(nums_new)\n",
    "    nums_new = list(nums_new)\n",
    "    n = len(nums_new)\n",
    "    if nums >= 0:\n",
    "        for i in range(n):\n",
    "            if int(nums_new[i]) <= 5:\n",
    "                nums_new.insert(i,\"5\")\n",
    "                inserted = True\n",
    "                break\n",
    "        if not inserted:\n",
    "            nums_new.append(\"5\")\n",
    "    else:\n",
    "        for i in range(n):\n",
    "            if int(nums_new[i]) >= 5:\n",
    "                nums_new.insert(i,\"5\")\n",
    "                inserted = True\n",
    "                break\n",
    "        if not inserted:\n",
    "            nums_new.append(\"5\")\n",
    "    result = \"\".join(nums_new)\n",
    "    return int(result) if nums >= 0 else -int(result)\n",
    "\n",
    "nums = int(input())\n",
    "print(func(nums))"
   ]
  },
  {
   "cell_type": "code",
   "execution_count": 158,
   "id": "89a8dc9b-2323-49ad-a207-da29c73d6af4",
   "metadata": {},
   "outputs": [
    {
     "name": "stdin",
     "output_type": "stream",
     "text": [
      "输入第一个字符串： aaab\n",
      "输入第二个字符串： aabb\n"
     ]
    },
    {
     "name": "stdout",
     "output_type": "stream",
     "text": [
      "False\n"
     ]
    }
   ],
   "source": [
    "# 给定两个字符串，判断其中一个字符串是否为另一个字符串的置换\n",
    "a = input(\"输入第一个字符串：\")\n",
    "b = input(\"输入第二个字符串：\")\n",
    "\n",
    "def func(a,b):\n",
    "    a = list(a)\n",
    "    b = list(b)\n",
    "    while len(a) == len(b) and len(a) != 0:\n",
    "        count = 0\n",
    "        for i in range(len(a)):\n",
    "            for j in range(len(b)):\n",
    "                if a[i] == b[j]:\n",
    "                    count += 1\n",
    "                    del b[j]\n",
    "                    break\n",
    "        if len(a) == count:\n",
    "            return True\n",
    "        else:\n",
    "            return False\n",
    "    return False\n",
    "\n",
    "print(func(a,b))"
   ]
  },
  {
   "cell_type": "code",
   "execution_count": null,
   "id": "fee98fc5-af50-4d85-a5b5-b08a7a784169",
   "metadata": {},
   "outputs": [],
   "source": []
  }
 ],
 "metadata": {
  "kernelspec": {
   "display_name": "Python 3 (ipykernel)",
   "language": "python",
   "name": "python3"
  },
  "language_info": {
   "codemirror_mode": {
    "name": "ipython",
    "version": 3
   },
   "file_extension": ".py",
   "mimetype": "text/x-python",
   "name": "python",
   "nbconvert_exporter": "python",
   "pygments_lexer": "ipython3",
   "version": "3.12.7"
  }
 },
 "nbformat": 4,
 "nbformat_minor": 5
}
