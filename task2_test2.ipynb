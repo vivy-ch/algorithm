{
 "cells": [
  {
   "cell_type": "markdown",
   "id": "e8572bfd-81cd-4992-b6ac-f73af2b2bf38",
   "metadata": {},
   "source": [
    "1.错误点：未添加break"
   ]
  },
  {
   "cell_type": "code",
   "execution_count": null,
   "id": "f8ca6ef9-f1c2-4799-a470-d4c595f074fe",
   "metadata": {},
   "outputs": [],
   "source": [
    "n = int(input())\n",
    "\n",
    "if n <= 1:\n",
    "    print('no')\n",
    "elif n == 2:\n",
    "    print('yes')\n",
    "else:\n",
    "    for i in range(2,n):\n",
    "        if n % i == 0:\n",
    "            print('no')\n",
    "        else:\n",
    "            print('yes')\n",
    "\n",
    "# *******************************************************************************\n",
    "\n",
    "n = int(input())\n",
    "\n",
    "if n <= 1:\n",
    "    print('no')\n",
    "elif n == 2:\n",
    "    print('yes')\n",
    "else:\n",
    "    for i in range(2,n):\n",
    "        if n % i == 0:\n",
    "            print('no')\n",
    "            break\n",
    "        else:\n",
    "            print('yes')\n",
    "            break"
   ]
  },
  {
   "cell_type": "markdown",
   "id": "4de76872-bec1-4258-a353-d5fb7fcf4773",
   "metadata": {},
   "source": [
    "2.错误点：应该先定义好函数"
   ]
  },
  {
   "cell_type": "code",
   "execution_count": null,
   "id": "a9d9e609-22a8-4528-a9a6-92d20564a83d",
   "metadata": {},
   "outputs": [],
   "source": [
    "a = int(input())\n",
    "b = int(input())\n",
    "\n",
    "for i in range(a,b+1):\n",
    "    for j in range(a,i):\n",
    "        if i % j != 0:\n",
    "            print(i)\n",
    "            break\n",
    "\n",
    "# *******************************************************************************\n",
    "\n",
    "def prime(n):\n",
    "    flag = True\n",
    "    if n == 1:\n",
    "        flag = False\n",
    "    for i in range(2,n):\n",
    "        if n % i == 0:\n",
    "            flag = False\n",
    "            break\n",
    "    return flag\n",
    "\n",
    "a = int(input())\n",
    "b = int(input())\n",
    "\n",
    "list = []\n",
    "\n",
    "for i in range(a,b+1):\n",
    "    if prime(i):\n",
    "        list.append(i)\n",
    "\n",
    "print(list)"
   ]
  }
 ],
 "metadata": {
  "kernelspec": {
   "display_name": "Python 3 (ipykernel)",
   "language": "python",
   "name": "python3"
  },
  "language_info": {
   "codemirror_mode": {
    "name": "ipython",
    "version": 3
   },
   "file_extension": ".py",
   "mimetype": "text/x-python",
   "name": "python",
   "nbconvert_exporter": "python",
   "pygments_lexer": "ipython3",
   "version": "3.12.7"
  }
 },
 "nbformat": 4,
 "nbformat_minor": 5
}
