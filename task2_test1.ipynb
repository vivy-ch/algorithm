{
 "cells": [
  {
   "cell_type": "code",
   "execution_count": 2,
   "id": "63236f27-952e-428a-9aaf-ab807fbe0f20",
   "metadata": {},
   "outputs": [
    {
     "name": "stdout",
     "output_type": "stream",
     "text": [
      "[2, 4, 6, 8, 10, 12, 14, 16, 18, 20, 22, 24, 26, 28, 30, 32, 34, 36, 38, 40, 42, 44, 46, 48, 50, 52, 54, 56, 58, 60, 62, 64, 66, 68, 70, 72, 74, 76, 78, 80, 82, 84, 86, 88, 90, 92, 94, 96, 98, 100]\n"
     ]
    }
   ],
   "source": [
    "# 1\n",
    "list = []\n",
    "for i in range(1,101):\n",
    "    if i % 2 == 0:\n",
    "        list.append(i)\n",
    "print(list)"
   ]
  },
  {
   "cell_type": "code",
   "execution_count": 4,
   "id": "e92bae23-499c-40b7-b01c-1f0640b53b2d",
   "metadata": {},
   "outputs": [
    {
     "name": "stdout",
     "output_type": "stream",
     "text": [
      "[1, 3, 5, 7, 9, 11, 13, 15, 17, 19, 21, 23, 25, 27, 29, 31, 33, 35, 37, 39, 41, 43, 45, 47, 49, 51, 53, 55, 57, 59, 61, 63, 65, 67, 69, 71, 73, 75, 77, 79, 81, 83, 85, 87, 89, 91, 93, 95, 97, 99]\n"
     ]
    }
   ],
   "source": [
    "# 2\n",
    "list = []\n",
    "for i in range(1,101):\n",
    "    if i % 2 != 0:\n",
    "        list.append(i)\n",
    "print(list)"
   ]
  },
  {
   "cell_type": "code",
   "execution_count": 55,
   "id": "579abc56-ea79-469c-bf07-0f5ab52fa941",
   "metadata": {},
   "outputs": [
    {
     "name": "stdin",
     "output_type": "stream",
     "text": [
      " 127\n"
     ]
    },
    {
     "name": "stdout",
     "output_type": "stream",
     "text": [
      "yes\n"
     ]
    }
   ],
   "source": [
    "# 3\n",
    "def func(n):\n",
    "    if n == 1:\n",
    "        return 'no'\n",
    "    elif n == 2:\n",
    "        return 'yes'\n",
    "    else:\n",
    "        for i in range(2,n):\n",
    "            if n % i == 0:\n",
    "                return 'no'\n",
    "                break\n",
    "        return 'yes'\n",
    "\n",
    "n = int(input())\n",
    "print(func(n))"
   ]
  },
  {
   "cell_type": "code",
   "execution_count": 37,
   "id": "b55fc03c-1a46-4250-a040-39b443804ef9",
   "metadata": {},
   "outputs": [
    {
     "name": "stdin",
     "output_type": "stream",
     "text": [
      " 10\n"
     ]
    },
    {
     "name": "stdout",
     "output_type": "stream",
     "text": [
      "3628800\n"
     ]
    }
   ],
   "source": [
    "# 4\n",
    "def func(n):\n",
    "    m = 0\n",
    "    if n == 1:\n",
    "        return 1\n",
    "    else:\n",
    "        m = func(n-1) * n\n",
    "    return m\n",
    "\n",
    "n = int(input())\n",
    "print(func(n))"
   ]
  },
  {
   "cell_type": "code",
   "execution_count": 43,
   "id": "d8f8c315-793e-412f-a034-e97f5f433c84",
   "metadata": {},
   "outputs": [
    {
     "name": "stdin",
     "output_type": "stream",
     "text": [
      " 3\n"
     ]
    },
    {
     "name": "stdout",
     "output_type": "stream",
     "text": [
      "18.85 28.27\n"
     ]
    }
   ],
   "source": [
    "# 5\n",
    "import math\n",
    "\n",
    "r = float(input())\n",
    "c = 2 * math.pi * r\n",
    "s = math.pi * r * r\n",
    "print('%.2f' % c, '%.2f' % s)"
   ]
  },
  {
   "cell_type": "code",
   "execution_count": 45,
   "id": "82a4f48f-143d-430d-a663-383ff12900e3",
   "metadata": {},
   "outputs": [
    {
     "name": "stdin",
     "output_type": "stream",
     "text": [
      " 3\n",
      " 4\n"
     ]
    },
    {
     "name": "stdout",
     "output_type": "stream",
     "text": [
      "5.0\n"
     ]
    }
   ],
   "source": [
    "# 6\n",
    "import math\n",
    "\n",
    "a = float(input())\n",
    "b = float(input())\n",
    "\n",
    "c = math.sqrt(a * a + b * b)\n",
    "print(c)"
   ]
  },
  {
   "cell_type": "code",
   "execution_count": 47,
   "id": "27f264a0-06de-4ed7-9f5c-c02b4bafe8f9",
   "metadata": {},
   "outputs": [
    {
     "name": "stdin",
     "output_type": "stream",
     "text": [
      " 2\n",
      " 1\n",
      " 3\n"
     ]
    },
    {
     "name": "stdout",
     "output_type": "stream",
     "text": [
      "[1, 2, 3]\n"
     ]
    }
   ],
   "source": [
    "# 7\n",
    "a = int(input())\n",
    "b = int(input())\n",
    "c = int(input())\n",
    "\n",
    "list = [a,b,c]\n",
    "result = sorted(list)\n",
    "print(result)"
   ]
  },
  {
   "cell_type": "code",
   "execution_count": 79,
   "id": "a60ebf4d-cf21-4b13-89e6-3d63b29f2bc6",
   "metadata": {},
   "outputs": [
    {
     "name": "stdin",
     "output_type": "stream",
     "text": [
      "左区间： 1\n",
      "右区间： 2\n"
     ]
    },
    {
     "name": "stdout",
     "output_type": "stream",
     "text": [
      "[1, 2]\n"
     ]
    }
   ],
   "source": [
    "# 8\n",
    "a = int(input(\"左区间：\"))\n",
    "b = int(input(\"右区间：\"))\n",
    "\n",
    "def func(n):\n",
    "    if n == 1:\n",
    "        return False\n",
    "    for i in range(2,n):\n",
    "        if n % i == 0:\n",
    "            return False\n",
    "            break\n",
    "    else:\n",
    "        return True\n",
    "\n",
    "list1 = []\n",
    "\n",
    "for i in range(a,b+1):\n",
    "    if a > b or b == 1:\n",
    "        print('sb')\n",
    "        break\n",
    "    elif func(i):\n",
    "        list1.append(i)\n",
    "\n",
    "print(list1)"
   ]
  },
  {
   "cell_type": "code",
   "execution_count": null,
   "id": "df12013b-6f72-4a4d-9c8c-a8de46e5a871",
   "metadata": {},
   "outputs": [],
   "source": []
  }
 ],
 "metadata": {
  "kernelspec": {
   "display_name": "Python 3 (ipykernel)",
   "language": "python",
   "name": "python3"
  },
  "language_info": {
   "codemirror_mode": {
    "name": "ipython",
    "version": 3
   },
   "file_extension": ".py",
   "mimetype": "text/x-python",
   "name": "python",
   "nbconvert_exporter": "python",
   "pygments_lexer": "ipython3",
   "version": "3.12.7"
  }
 },
 "nbformat": 4,
 "nbformat_minor": 5
}
