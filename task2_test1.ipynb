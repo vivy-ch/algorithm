{
 "cells": [
  {
   "cell_type": "code",
   "execution_count": 2,
   "id": "63236f27-952e-428a-9aaf-ab807fbe0f20",
   "metadata": {},
   "outputs": [
    {
     "name": "stdout",
     "output_type": "stream",
     "text": [
      "[2, 4, 6, 8, 10, 12, 14, 16, 18, 20, 22, 24, 26, 28, 30, 32, 34, 36, 38, 40, 42, 44, 46, 48, 50, 52, 54, 56, 58, 60, 62, 64, 66, 68, 70, 72, 74, 76, 78, 80, 82, 84, 86, 88, 90, 92, 94, 96, 98, 100]\n"
     ]
    }
   ],
   "source": [
    "# 1\n",
    "list = []\n",
    "for i in range(1,101):\n",
    "    if i % 2 == 0:\n",
    "        list.append(i)\n",
    "print(list)"
   ]
  },
  {
   "cell_type": "code",
   "execution_count": 4,
   "id": "e92bae23-499c-40b7-b01c-1f0640b53b2d",
   "metadata": {},
   "outputs": [
    {
     "name": "stdout",
     "output_type": "stream",
     "text": [
      "[1, 3, 5, 7, 9, 11, 13, 15, 17, 19, 21, 23, 25, 27, 29, 31, 33, 35, 37, 39, 41, 43, 45, 47, 49, 51, 53, 55, 57, 59, 61, 63, 65, 67, 69, 71, 73, 75, 77, 79, 81, 83, 85, 87, 89, 91, 93, 95, 97, 99]\n"
     ]
    }
   ],
   "source": [
    "# 2\n",
    "list = []\n",
    "for i in range(1,101):\n",
    "    if i % 2 != 0:\n",
    "        list.append(i)\n",
    "print(list)"
   ]
  },
  {
   "cell_type": "code",
   "execution_count": 55,
   "id": "579abc56-ea79-469c-bf07-0f5ab52fa941",
   "metadata": {},
   "outputs": [
    {
     "name": "stdin",
     "output_type": "stream",
     "text": [
      " 127\n"
     ]
    },
    {
     "name": "stdout",
     "output_type": "stream",
     "text": [
      "yes\n"
     ]
    }
   ],
   "source": [
    "# 3\n",
    "def func(n):\n",
    "    if n == 1:\n",
    "        return 'no'\n",
    "    elif n == 2:\n",
    "        return 'yes'\n",
    "    else:\n",
    "        for i in range(2,n):\n",
    "            if n % i == 0:\n",
    "                return 'no'\n",
    "                break\n",
    "        return 'yes'\n",
    "\n",
    "n = int(input())\n",
    "print(func(n))"
   ]
  },
  {
   "cell_type": "code",
   "execution_count": 37,
   "id": "b55fc03c-1a46-4250-a040-39b443804ef9",
   "metadata": {},
   "outputs": [
    {
     "name": "stdin",
     "output_type": "stream",
     "text": [
      " 10\n"
     ]
    },
    {
     "name": "stdout",
     "output_type": "stream",
     "text": [
      "3628800\n"
     ]
    }
   ],
   "source": [
    "# 4\n",
    "def func(n):\n",
    "    m = 0\n",
    "    if n == 1:\n",
    "        return 1\n",
    "    else:\n",
    "        m = func(n-1) * n\n",
    "    return m\n",
    "\n",
    "n = int(input())\n",
    "print(func(n))"
   ]
  },
  {
   "cell_type": "code",
   "execution_count": 43,
   "id": "d8f8c315-793e-412f-a034-e97f5f433c84",
   "metadata": {},
   "outputs": [
    {
     "name": "stdin",
     "output_type": "stream",
     "text": [
      " 3\n"
     ]
    },
    {
     "name": "stdout",
     "output_type": "stream",
     "text": [
      "18.85 28.27\n"
     ]
    }
   ],
   "source": [
    "# 5\n",
    "import math\n",
    "\n",
    "r = float(input())\n",
    "c = 2 * math.pi * r\n",
    "s = math.pi * r * r\n",
    "print('%.2f' % c, '%.2f' % s)"
   ]
  },
  {
   "cell_type": "code",
   "execution_count": 45,
   "id": "82a4f48f-143d-430d-a663-383ff12900e3",
   "metadata": {},
   "outputs": [
    {
     "name": "stdin",
     "output_type": "stream",
     "text": [
      " 3\n",
      " 4\n"
     ]
    },
    {
     "name": "stdout",
     "output_type": "stream",
     "text": [
      "5.0\n"
     ]
    }
   ],
   "source": [
    "# 6\n",
    "import math\n",
    "\n",
    "a = float(input())\n",
    "b = float(input())\n",
    "\n",
    "c = math.sqrt(a * a + b * b)\n",
    "print(c)"
   ]
  },
  {
   "cell_type": "code",
   "execution_count": 47,
   "id": "27f264a0-06de-4ed7-9f5c-c02b4bafe8f9",
   "metadata": {},
   "outputs": [
    {
     "name": "stdin",
     "output_type": "stream",
     "text": [
      " 2\n",
      " 1\n",
      " 3\n"
     ]
    },
    {
     "name": "stdout",
     "output_type": "stream",
     "text": [
      "[1, 2, 3]\n"
     ]
    }
   ],
   "source": [
    "# 7\n",
    "a = int(input())\n",
    "b = int(input())\n",
    "c = int(input())\n",
    "\n",
    "list = [a,b,c]\n",
    "result = sorted(list)\n",
    "print(result)"
   ]
  },
  {
   "cell_type": "code",
   "execution_count": 84,
   "id": "a60ebf4d-cf21-4b13-89e6-3d63b29f2bc6",
   "metadata": {},
   "outputs": [
    {
     "name": "stdin",
     "output_type": "stream",
     "text": [
      "左区间： 1\n",
      "右区间： 100\n"
     ]
    },
    {
     "name": "stdout",
     "output_type": "stream",
     "text": [
      "[2, 3, 5, 7, 11, 13, 17, 19, 23, 29, 31, 37, 41, 43, 47, 53, 59, 61, 67, 71, 73, 79, 83, 89, 97]\n"
     ]
    }
   ],
   "source": [
    "# 8\n",
    "a = int(input(\"左区间：\"))\n",
    "b = int(input(\"右区间：\"))\n",
    "\n",
    "def func(n):\n",
    "    if n == 1:\n",
    "        return False\n",
    "    for i in range(2,n):\n",
    "        if n % i == 0:\n",
    "            return False\n",
    "            break\n",
    "    return True\n",
    "\n",
    "list1 = []\n",
    "\n",
    "for i in range(a,b+1):\n",
    "    if a > b or b == 1:\n",
    "        print('sb')\n",
    "        break\n",
    "    elif func(i):\n",
    "        list1.append(i)\n",
    "\n",
    "print(list1)"
   ]
  },
  {
   "cell_type": "code",
   "execution_count": 85,
   "id": "df12013b-6f72-4a4d-9c8c-a8de46e5a871",
   "metadata": {},
   "outputs": [
    {
     "name": "stdout",
     "output_type": "stream",
     "text": [
      "123\n",
      "124\n",
      "132\n",
      "134\n",
      "142\n",
      "143\n",
      "213\n",
      "214\n",
      "231\n",
      "234\n",
      "241\n",
      "243\n",
      "312\n",
      "314\n",
      "321\n",
      "324\n",
      "341\n",
      "342\n",
      "412\n",
      "413\n",
      "421\n",
      "423\n",
      "431\n",
      "432\n"
     ]
    }
   ],
   "source": [
    "# 9\n",
    "for i in range(1,5):\n",
    "    for j in range(1,5):\n",
    "        for m in range(1,5):\n",
    "            if i != j and i != m and j != m:\n",
    "                print(f\"{i}{j}{m}\")"
   ]
  },
  {
   "cell_type": "code",
   "execution_count": 92,
   "id": "8613cd69-3ead-4205-a642-7dd566f6a4dc",
   "metadata": {},
   "outputs": [
    {
     "name": "stdout",
     "output_type": "stream",
     "text": [
      "\n",
      "\t1*1=1 \n",
      "\t2*1=2 \t2*2=4 \n",
      "\t3*1=3 \t3*2=6 \t3*3=9 \n",
      "\t4*1=4 \t4*2=8 \t4*3=12 \t4*4=16 \n",
      "\t5*1=5 \t5*2=10 \t5*3=15 \t5*4=20 \t5*5=25 \n",
      "\t6*1=6 \t6*2=12 \t6*3=18 \t6*4=24 \t6*5=30 \t6*6=36 \n",
      "\t7*1=7 \t7*2=14 \t7*3=21 \t7*4=28 \t7*5=35 \t7*6=42 \t7*7=49 \n",
      "\t8*1=8 \t8*2=16 \t8*3=24 \t8*4=32 \t8*5=40 \t8*6=48 \t8*7=56 \t8*8=64 \n",
      "\t9*1=9 \t9*2=18 \t9*3=27 \t9*4=36 \t9*5=45 \t9*6=54 \t9*7=63 \t9*8=72 \t9*9=81 "
     ]
    }
   ],
   "source": [
    "# 10\n",
    "for i in range(1,10):\n",
    "    print()\n",
    "    for j in range(1,i+1):\n",
    "        print(f\"\\t{i}*{j}={i*j}\", end=' ')"
   ]
  },
  {
   "cell_type": "code",
   "execution_count": 96,
   "id": "ff928203-8b24-46b0-a256-9ccb7a628a82",
   "metadata": {},
   "outputs": [
    {
     "name": "stdin",
     "output_type": "stream",
     "text": [
      " 153\n"
     ]
    },
    {
     "name": "stdout",
     "output_type": "stream",
     "text": [
      "yes\n"
     ]
    }
   ],
   "source": [
    "# 11\n",
    "def func(n):\n",
    "    if 100 <= n <=999:\n",
    "        a = n // 100\n",
    "        b = (n % 100) // 10\n",
    "        c = n % 10\n",
    "        if a*a*a + b*b*b + c*c*c == n:\n",
    "            return 'yes'\n",
    "    return 'no'\n",
    "\n",
    "n = int(input())\n",
    "print(func(n))"
   ]
  },
  {
   "cell_type": "code",
   "execution_count": 101,
   "id": "5c866be3-e3d0-47f2-b68c-47d3fa35720b",
   "metadata": {},
   "outputs": [
    {
     "name": "stdin",
     "output_type": "stream",
     "text": [
      " 5678\n"
     ]
    },
    {
     "name": "stdout",
     "output_type": "stream",
     "text": [
      "8765\n"
     ]
    }
   ],
   "source": [
    "# 12\n",
    "a = int(input())\n",
    "if a < 1000 or a > 9999:\n",
    "    print(\"重新输入\")\n",
    "else:\n",
    "    a = str(a)\n",
    "    b = a[::-1]\n",
    "    b = int(b)\n",
    "    print(b)"
   ]
  },
  {
   "cell_type": "code",
   "execution_count": 105,
   "id": "28f4e41e-e819-4e75-ad56-36f03a4cf094",
   "metadata": {},
   "outputs": [
    {
     "name": "stdin",
     "output_type": "stream",
     "text": [
      " ajsfg\n"
     ]
    },
    {
     "name": "stdout",
     "output_type": "stream",
     "text": [
      "True\n"
     ]
    }
   ],
   "source": [
    "# 13\n",
    "a = input()\n",
    "print(a.isalpha())"
   ]
  },
  {
   "cell_type": "code",
   "execution_count": 108,
   "id": "e1473c54-8701-4a4b-8c85-bcd21f46196a",
   "metadata": {},
   "outputs": [
    {
     "name": "stdin",
     "output_type": "stream",
     "text": [
      " 0\n",
      " 2\n",
      " 5\n"
     ]
    },
    {
     "name": "stdout",
     "output_type": "stream",
     "text": [
      "no\n"
     ]
    }
   ],
   "source": [
    "# 14\n",
    "a = int(input())\n",
    "b = int(input())\n",
    "c = int(input())\n",
    "\n",
    "if a <= 0 or b <= 0 or c <= 0:\n",
    "    print('no')\n",
    "elif a + b > c and b + c > a and a + c > b:\n",
    "    print('yes')\n",
    "else:\n",
    "    print('no')"
   ]
  },
  {
   "cell_type": "code",
   "execution_count": 114,
   "id": "95c0f4e4-7318-443b-b13a-9511575f22ef",
   "metadata": {},
   "outputs": [
    {
     "name": "stdout",
     "output_type": "stream",
     "text": [
      "6\n",
      "28\n",
      "496\n"
     ]
    }
   ],
   "source": [
    "# 15\n",
    "for i in range(1,1001):\n",
    "    sums = 0\n",
    "    for j in range(1,i):\n",
    "        if i % j == 0:\n",
    "            sums += j\n",
    "    if sums == i:\n",
    "        print(i)"
   ]
  },
  {
   "cell_type": "code",
   "execution_count": 120,
   "id": "4201b13b-d4d5-4568-a513-355a5c2b8978",
   "metadata": {},
   "outputs": [
    {
     "name": "stdin",
     "output_type": "stream",
     "text": [
      "输入一个正整数： 180\n"
     ]
    },
    {
     "name": "stdout",
     "output_type": "stream",
     "text": [
      "2 2 3 3 5\n"
     ]
    }
   ],
   "source": [
    "# 16\n",
    "a = int(input(\"输入一个正整数：\"))\n",
    "if a <= 1:\n",
    "    print(\"请输入大于1的整数。\")\n",
    "else:\n",
    "    factors = []\n",
    "    y = 2\n",
    "    while a >= y:\n",
    "        if a % y == 0:\n",
    "            factors.append(y)\n",
    "            a /= y\n",
    "        else:\n",
    "            y += 1\n",
    "    print(\" \".join(map(str, factors)))"
   ]
  },
  {
   "cell_type": "code",
   "execution_count": 125,
   "id": "9df94112-a2c0-4bf7-bd4b-be277c99bba1",
   "metadata": {},
   "outputs": [
    {
     "name": "stdin",
     "output_type": "stream",
     "text": [
      " 4\n",
      " 5\n",
      " 6\n"
     ]
    },
    {
     "name": "stdout",
     "output_type": "stream",
     "text": [
      "9.92\n"
     ]
    }
   ],
   "source": [
    "# 17\n",
    "import math\n",
    "\n",
    "a = int(input())\n",
    "b = int(input())\n",
    "c = int(input())\n",
    "\n",
    "p = (a+b+c) / 2\n",
    "s = math.sqrt(p*(p-a)*(p-b)*(p-c))\n",
    "print('%.2f' % s)"
   ]
  },
  {
   "cell_type": "code",
   "execution_count": 127,
   "id": "07434ef6-f51a-45ce-b56b-b0c2da35a1d7",
   "metadata": {},
   "outputs": [
    {
     "name": "stdout",
     "output_type": "stream",
     "text": [
      "[2, 4, 6, 8, 10, 12, 14, 16, 18, 20, 22, 24, 26, 28, 30, 32, 34, 36, 38, 40, 42, 44, 46, 48, 50, 52, 54, 56, 58, 60, 62, 64, 66, 68, 70, 72, 74, 76, 78, 80, 82, 84, 86, 88, 90, 92, 94, 96, 98, 100]\n"
     ]
    }
   ],
   "source": [
    "list = []\n",
    "for i in range(1,101):\n",
    "    if i % 2 == 0:\n",
    "        list.append(i)\n",
    "\n",
    "print(list)"
   ]
  },
  {
   "cell_type": "code",
   "execution_count": 129,
   "id": "8a72d989-baab-439e-b910-72b44e7990ee",
   "metadata": {},
   "outputs": [
    {
     "name": "stdout",
     "output_type": "stream",
     "text": [
      "[1, 3, 5, 7, 9, 11, 13, 15, 17, 19, 21, 23, 25, 27, 29, 31, 33, 35, 37, 39, 41, 43, 45, 47, 49, 51, 53, 55, 57, 59, 61, 63, 65, 67, 69, 71, 73, 75, 77, 79, 81, 83, 85, 87, 89, 91, 93, 95, 97, 99]\n"
     ]
    }
   ],
   "source": [
    "list = []\n",
    "for i in range(1,101):\n",
    "    if i % 2 == 1:\n",
    "        list.append(i)\n",
    "\n",
    "print(list)"
   ]
  },
  {
   "cell_type": "code",
   "execution_count": 137,
   "id": "61d81b2b-6a6a-4684-9622-11e31bc83c65",
   "metadata": {},
   "outputs": [
    {
     "name": "stdin",
     "output_type": "stream",
     "text": [
      " 7\n"
     ]
    },
    {
     "name": "stdout",
     "output_type": "stream",
     "text": [
      "yes\n"
     ]
    }
   ],
   "source": [
    "n = int(input())\n",
    "\n",
    "if n <= 1:\n",
    "    print('no')\n",
    "elif n == 2:\n",
    "    print('yes')\n",
    "else:\n",
    "    for i in range(2,n):\n",
    "        if n % i == 0:\n",
    "            print('no')\n",
    "            break\n",
    "        else:\n",
    "            print('yes')\n",
    "            break"
   ]
  },
  {
   "cell_type": "code",
   "execution_count": 176,
   "id": "abf14ac2-7c91-475f-b757-ac8d0f8ff15b",
   "metadata": {},
   "outputs": [
    {
     "name": "stdin",
     "output_type": "stream",
     "text": [
      " 5\n"
     ]
    },
    {
     "name": "stdout",
     "output_type": "stream",
     "text": [
      "120\n"
     ]
    }
   ],
   "source": [
    "n = int(input())\n",
    "\n",
    "def func(n):\n",
    "    sums = 1\n",
    "    if n > 1:\n",
    "        sums = n * func(n-1)\n",
    "    return sums\n",
    "\n",
    "print(func(n))\n",
    "\n",
    "# 极限n值为1558"
   ]
  },
  {
   "cell_type": "code",
   "execution_count": 182,
   "id": "62490976-3e59-4427-bd8a-7a8538be67b5",
   "metadata": {},
   "outputs": [
    {
     "name": "stdin",
     "output_type": "stream",
     "text": [
      " 5\n"
     ]
    },
    {
     "name": "stdout",
     "output_type": "stream",
     "text": [
      "120\n"
     ]
    }
   ],
   "source": [
    "n = int(input())\n",
    "\n",
    "sums = 1\n",
    "for i in range(1,n+1):\n",
    "    sums *= i\n",
    "\n",
    "print(sums)\n",
    "\n",
    "# 极限n值仍为1558"
   ]
  },
  {
   "cell_type": "code",
   "execution_count": 184,
   "id": "f3e56f55-f303-401a-a2a7-1ea9ef7ecfdf",
   "metadata": {},
   "outputs": [
    {
     "name": "stdin",
     "output_type": "stream",
     "text": [
      " 3\n",
      " 4\n"
     ]
    },
    {
     "name": "stdout",
     "output_type": "stream",
     "text": [
      "5.0\n"
     ]
    }
   ],
   "source": [
    "import math\n",
    "\n",
    "a = int(input())\n",
    "b = int(input())\n",
    "c = math.sqrt(a*a+b*b)\n",
    "print(c)"
   ]
  },
  {
   "cell_type": "code",
   "execution_count": 191,
   "id": "32d9b26b-8945-4951-a3a5-b3bba4339beb",
   "metadata": {},
   "outputs": [
    {
     "name": "stdin",
     "output_type": "stream",
     "text": [
      " 3\n",
      " 2\n",
      " 1\n"
     ]
    },
    {
     "name": "stdout",
     "output_type": "stream",
     "text": [
      "[1, 2, 3]\n"
     ]
    }
   ],
   "source": [
    "a = int(input())\n",
    "b = int(input())\n",
    "c = int(input())\n",
    "\n",
    "list1 = [a,b,c]\n",
    "for i in range(len(list1)):\n",
    "    for j in range(len(list1)):\n",
    "        if list1[i] <= list1[j]: # 这里<=从小到大排，>=则从大到小排\n",
    "            list1[i],list1[j] = list1[j],list1[i]\n",
    "print(list1)"
   ]
  },
  {
   "cell_type": "code",
   "execution_count": 200,
   "id": "04fdb035-3aaf-43b8-9c52-e097466c6e04",
   "metadata": {},
   "outputs": [
    {
     "name": "stdin",
     "output_type": "stream",
     "text": [
      " 1\n",
      " 1\n"
     ]
    }
   ],
   "source": [
    "a = int(input())\n",
    "b = int(input())\n",
    "\n",
    "for i in range(a,b+1):\n",
    "    for j in range(a,i):\n",
    "        if i % j != 0:\n",
    "            print(i)\n",
    "            break"
   ]
  },
  {
   "cell_type": "code",
   "execution_count": 202,
   "id": "f0389b57-acbe-4a4c-bb67-0159a42c6253",
   "metadata": {},
   "outputs": [
    {
     "name": "stdin",
     "output_type": "stream",
     "text": [
      " 1\n",
      " 100\n"
     ]
    },
    {
     "name": "stdout",
     "output_type": "stream",
     "text": [
      "[2, 3, 5, 7, 11, 13, 17, 19, 23, 29, 31, 37, 41, 43, 47, 53, 59, 61, 67, 71, 73, 79, 83, 89, 97]\n"
     ]
    }
   ],
   "source": [
    "def prime(n):\n",
    "    flag = True\n",
    "    if n == 1:\n",
    "        flag = False\n",
    "    for i in range(2,n):\n",
    "        if n % i == 0:\n",
    "            flag = False\n",
    "            break\n",
    "    return flag\n",
    "\n",
    "a = int(input())\n",
    "b = int(input())\n",
    "\n",
    "list = []\n",
    "\n",
    "for i in range(a,b+1):\n",
    "    if prime(i):\n",
    "        list.append(i)\n",
    "\n",
    "print(list)"
   ]
  },
  {
   "cell_type": "code",
   "execution_count": null,
   "id": "eb88b3ed-daa4-4be6-a68b-13aaf937b01c",
   "metadata": {},
   "outputs": [],
   "source": []
  }
 ],
 "metadata": {
  "kernelspec": {
   "display_name": "Python 3 (ipykernel)",
   "language": "python",
   "name": "python3"
  },
  "language_info": {
   "codemirror_mode": {
    "name": "ipython",
    "version": 3
   },
   "file_extension": ".py",
   "mimetype": "text/x-python",
   "name": "python",
   "nbconvert_exporter": "python",
   "pygments_lexer": "ipython3",
   "version": "3.12.7"
  }
 },
 "nbformat": 4,
 "nbformat_minor": 5
}
