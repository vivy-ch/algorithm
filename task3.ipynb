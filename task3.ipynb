{
 "cells": [
  {
   "cell_type": "markdown",
   "id": "00742787-cc32-473e-8f98-96cbf5035c32",
   "metadata": {},
   "source": [
    "​​ValueError​​\t参数类型正确，但值不符合要求  \n",
    "​​TypeError​​\t参数类型错误  \n",
    "​​IndexError​​\t索引超出序列范围  \n"
   ]
  },
  {
   "cell_type": "code",
   "execution_count": 5,
   "id": "fbdfe2ab-f89f-4fa0-a48e-aca29d3576ea",
   "metadata": {},
   "outputs": [
    {
     "name": "stdin",
     "output_type": "stream",
     "text": [
      " 100\n",
      " 2\n"
     ]
    },
    {
     "name": "stdout",
     "output_type": "stream",
     "text": [
      "(200.0, 25.0)\n"
     ]
    }
   ],
   "source": [
    "# 实现球从 m 米高度落下，每次反弹高度为一半，求第 n 次落地时的总路程和第 n 次反弹高度\n",
    "def ball(m: float, n: int) -> tuple: # 用于提醒函数返回值为一个元组\n",
    "    if n <= 0 or m <= 0:\n",
    "        raise ValueError(\"m必须大于0，n必须为正整数\") # 主动抛出一个值错误\n",
    "\n",
    "    total_distance = m\n",
    "    current_height = m\n",
    "\n",
    "    # 从第二次落地开始累加反弹和下落的距离\n",
    "    for _ in range(n-1): # 这里的_表示一个合法变量名，表示不关心循环变量的具体值；range(n-1)相当于range(0,n-1)，即取0到n-2的整数\n",
    "        current_height /= 2\n",
    "        total_distance += 2 * current_height\n",
    "\n",
    "    rebound_height = current_height / 2\n",
    "\n",
    "    return total_distance, rebound_height\n",
    "\n",
    "m = float(input())\n",
    "n = int(input())\n",
    "print(ball(m,n))"
   ]
  },
  {
   "cell_type": "markdown",
   "id": "8483baea-3edb-44c4-92ab-de4f747fd661",
   "metadata": {},
   "source": [
    "三级引用：直接引用、浅拷贝、深拷贝  \n",
    "直接引用：改变任意值都会使引用值改变  \n",
    "浅拷贝：嵌套对象会改变（无嵌套可变对象或无需独立嵌套对象时使用）  \n",
    "深拷贝：都不改变（需要完全独立的嵌套对象时使用）"
   ]
  },
  {
   "cell_type": "code",
   "execution_count": 3,
   "id": "888b9d97-995a-41e3-80cf-453cdef3b4ae",
   "metadata": {},
   "outputs": [
    {
     "name": "stdout",
     "output_type": "stream",
     "text": [
      "[999, [2, 3, 100], 4]\n",
      "[1, [2, 3, 100], 4]\n",
      "[1, [2, 3], 4]\n"
     ]
    }
   ],
   "source": [
    "# 深拷贝与浅拷贝与直接引用\n",
    "import copy\n",
    "\n",
    "original = [1,[2,3],4]\n",
    "direct = original\n",
    "shallow = copy.copy(original)\n",
    "deep = copy.deepcopy(original)\n",
    "\n",
    "# 修改原列表中的嵌套列表\n",
    "original[1].append(100)\n",
    "original[0] = 999\n",
    "\n",
    "print(direct)\n",
    "print(shallow)\n",
    "print(deep)"
   ]
  },
  {
   "cell_type": "code",
   "execution_count": null,
   "id": "8c7711c5-62b3-4b43-88de-cf4e93fcba88",
   "metadata": {},
   "outputs": [],
   "source": []
  }
 ],
 "metadata": {
  "kernelspec": {
   "display_name": "Python 3 (ipykernel)",
   "language": "python",
   "name": "python3"
  },
  "language_info": {
   "codemirror_mode": {
    "name": "ipython",
    "version": 3
   },
   "file_extension": ".py",
   "mimetype": "text/x-python",
   "name": "python",
   "nbconvert_exporter": "python",
   "pygments_lexer": "ipython3",
   "version": "3.12.7"
  }
 },
 "nbformat": 4,
 "nbformat_minor": 5
}
